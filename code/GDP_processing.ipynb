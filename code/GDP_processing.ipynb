{
 "cells": [
  {
   "cell_type": "markdown",
   "id": "11da7c17-c0fa-4f4d-9635-1102b13c5775",
   "metadata": {},
   "source": [
    "# ZIPCODE - GDP conversion"
   ]
  },
  {
   "cell_type": "code",
   "execution_count": 2,
   "id": "1a9f4133-3456-4288-aaee-dc952d697977",
   "metadata": {},
   "outputs": [],
   "source": [
    "import pandas as pd\n",
    "from sklearn.datasets import load_iris\n",
    "from factor_analyzer import FactorAnalyzer\n",
    "import matplotlib.pyplot as plt\n",
    "import matplotlib.pyplot as plt\n",
    "import numpy as np"
   ]
  },
  {
   "cell_type": "code",
   "execution_count": 3,
   "id": "9fb984a5-7808-462e-8dac-009e42e282fc",
   "metadata": {},
   "outputs": [
    {
     "name": "stderr",
     "output_type": "stream",
     "text": [
      "/var/folders/ml/b32sv3j51m99nh7xvczpn81r0000gn/T/ipykernel_15562/1522798249.py:3: DtypeWarning: Columns (19,59,118,129,130,131,134,135,136,139,145,146,147) have mixed types. Specify dtype option on import or set low_memory=False.\n",
      "  df1 = pd.read_csv(accept_add)\n"
     ]
    }
   ],
   "source": [
    "accept_add = '../data/LC/Lending_Club_Accepted_2014_2018.csv'\n",
    "reject_add = '../data/LC/Lending_Club_Rejected_2014_2018.csv'"
   ]
  },
  {
   "cell_type": "code",
   "execution_count": 16,
   "id": "cd65976f-faa9-490e-a85f-07e990902a84",
   "metadata": {},
   "outputs": [
    {
     "name": "stderr",
     "output_type": "stream",
     "text": [
      "/var/folders/ml/b32sv3j51m99nh7xvczpn81r0000gn/T/ipykernel_6418/2660902038.py:1: DtypeWarning: Columns (19,59,118,129,130,131,134,135,136,139,145,146,147) have mixed types. Specify dtype option on import or set low_memory=False.\n",
      "  df1 = pd.read_csv(accept_add)\n"
     ]
    }
   ],
   "source": [
    "df1 = pd.read_csv(accept_add)\n",
    "df2 = pd.read_csv(reject_add)"
   ]
  },
  {
   "cell_type": "code",
   "execution_count": 17,
   "id": "298a0d32-1ddb-4415-a122-ea2519d6dd10",
   "metadata": {},
   "outputs": [],
   "source": [
    "def to_year(x):\n",
    "    return pd.to_datetime(x).year\n",
    "\n",
    "df1['issue_y'] = df1['issue_d'].apply(to_year)\n",
    "df1['issue_y'] = df1['issue_y'].apply(str)"
   ]
  },
  {
   "cell_type": "code",
   "execution_count": 19,
   "id": "bb079e16-ba1d-41bc-af32-85ead7dea84a",
   "metadata": {},
   "outputs": [],
   "source": [
    "import pandas as pd\n",
    "\n",
    "#read df1\n",
    "\n",
    "path = '../data/gdp/ZIP-COUNTY-FIPS_2017-06.csv' #path of zip file - county fips \n",
    "\n",
    "#read fips-zip file\n",
    "df_fips = pd.read_csv(path, encoding = \"ISO-8859-1\", dtype = object)"
   ]
  },
  {
   "cell_type": "code",
   "execution_count": 20,
   "id": "5d40e05d-5bc5-444c-9d48-fe54ca272d4e",
   "metadata": {},
   "outputs": [
    {
     "name": "stderr",
     "output_type": "stream",
     "text": [
      "\n",
      "KeyboardInterrupt\n",
      "\n"
     ]
    }
   ],
   "source": [
    "#add new column of only issue year \n",
    "def to_year(x):\n",
    "    return pd.to_datetime(x).year\n",
    "\n",
    "df1['issue_y'] = df1['issue_d'].apply(to_year)\n",
    "df1['issue_y'] = df1['issue_y'].apply(str)"
   ]
  },
  {
   "cell_type": "code",
   "execution_count": 21,
   "id": "25447ea0-b3cf-40b5-a5ed-4a82f38683f8",
   "metadata": {},
   "outputs": [],
   "source": [
    "#change zip code to 345xx format\n",
    "def f(x): \n",
    "    return x[:3] + 'xx'\n",
    "\n",
    "df_fips['ZIP'] = df_fips['ZIP'].apply(f)\n",
    "\n",
    "ziptofip = dict(zip(df_fips.ZIP, df_fips.STCOUNTYFP))  \n"
   ]
  },
  {
   "cell_type": "code",
   "execution_count": 22,
   "id": "1919c5f0-9f20-46a0-b9f8-de06868dbec1",
   "metadata": {},
   "outputs": [],
   "source": [
    "#check if there are corredsponding fips in zip code\n",
    "def g(x):\n",
    "    if x in ziptofip.keys():\n",
    "        return 1\n",
    "    else:\n",
    "        return 0\n",
    "\n",
    "df1['haszip'] = df1['zip_code'].apply(g)"
   ]
  },
  {
   "cell_type": "code",
   "execution_count": 23,
   "id": "051d723d-091d-4b6a-b7c7-a83785059917",
   "metadata": {},
   "outputs": [
    {
     "data": {
      "text/plain": [
       "2029524"
      ]
     },
     "execution_count": 23,
     "metadata": {},
     "output_type": "execute_result"
    }
   ],
   "source": [
    "df1['haszip'].sum()"
   ]
  },
  {
   "cell_type": "code",
   "execution_count": 403,
   "id": "aff29a6d-b720-43cb-a5f7-ab26a87c6c21",
   "metadata": {},
   "outputs": [
    {
     "data": {
      "text/plain": [
       "array(['962xx', '348xx', '092xx', '819xx', '965xx', '742xx', '096xx',\n",
       "       '097xx', '098xx', '963xx', '555xx', '094xx', '090xx', '091xx',\n",
       "       '861xx', '269xx', '892xx', '340xx', '929xx', '702xx', '709xx',\n",
       "       '849xx', '694xx', '854xx', '771xx', '817xx', '568xx', '343xx',\n",
       "       '862xx', '942xx', '093xx', '858xx', '095xx', '987xx', '885xx',\n",
       "       '663xx', '696xx', '621xx', '732xx', '345xx', '966xx', '901xx',\n",
       "       '353xx', '872xx', '429xx', '682xx', '888xx', '889xx', '909xx',\n",
       "       '964xx', '698xx', nan, '552xx', '896xx'], dtype=object)"
      ]
     },
     "execution_count": 403,
     "metadata": {},
     "output_type": "execute_result"
    }
   ],
   "source": [
    "#zipcode where no match in our zip-fip dataset found\n",
    "df1.loc[df1['haszip'] == 0]['zip_code'].unique()"
   ]
  },
  {
   "cell_type": "code",
   "execution_count": 24,
   "id": "0b618623-bc53-485c-a014-0a282dc51f81",
   "metadata": {},
   "outputs": [],
   "source": [
    "#for all gdp files, generate below dictionary\n",
    "gdp_dict = dict() #zip to [year2014gdp, year2015gdp, ..., year 2018gdp]\n",
    "import os\n",
    "# assign directory\n",
    "directory = '../data/gdp/CAGDP1/' #your GDP file directory\n",
    "fiptozip = dict()\n",
    "\n",
    "# iterate over files in\n",
    "# that directory\n",
    "for filename in os.listdir(directory):\n",
    "    f = os.path.join(directory, filename)\n",
    "    # checking if it is a file\n",
    "    if not filename.startswith('.') and os.path.isfile(f):\n",
    "        df = pd.read_csv(f, encoding = \"ISO-8859-1\")\n",
    "        \n",
    "        def tostr(x):\n",
    "            try:\n",
    "                res = str(x[2:][:-1])\n",
    "                assert(len(res) == 5)\n",
    "            except:\n",
    "                res = \"\"\n",
    "\n",
    "            return res\n",
    "        \n",
    "        #print(df.columns)\n",
    "        df['GeoFIPS'] = df['GeoFIPS'].apply(tostr)\n",
    "        \n",
    "        df = df.loc[df['Description'] =='Real GDP (thousands of chained 2012 dollars)']\n",
    "        tmp = dict(zip(df.GeoFIPS.apply(str), df[ ['2014', '2015', '2016', '2017', '2018']].values))\n",
    "        fiptozip.update(tmp)\n",
    "        "
   ]
  },
  {
   "cell_type": "code",
   "execution_count": 35,
   "id": "44c727cf-f500-45aa-acf4-064cac752411",
   "metadata": {},
   "outputs": [
    {
     "name": "stderr",
     "output_type": "stream",
     "text": [
      "/var/folders/ml/b32sv3j51m99nh7xvczpn81r0000gn/T/ipykernel_6418/2444950112.py:6: SettingWithCopyWarning: \n",
      "A value is trying to be set on a copy of a slice from a DataFrame.\n",
      "Try using .loc[row_indexer,col_indexer] = value instead\n",
      "\n",
      "See the caveats in the documentation: https://pandas.pydata.org/pandas-docs/stable/user_guide/indexing.html#returning-a-view-versus-a-copy\n",
      "  df_tmp['FIPS'] = df_tmp['zip_code'].apply(j)\n"
     ]
    }
   ],
   "source": [
    "#get a new dictonary that has only corresponded zipcode-fips\n",
    "df_tmp = df1.loc[df1['haszip'] == 1]\n",
    "\n",
    "def j(x):\n",
    "    return ziptofip[x]\n",
    "df_tmp['FIPS'] = df_tmp['zip_code'].apply(j)"
   ]
  },
  {
   "cell_type": "code",
   "execution_count": 26,
   "id": "dcced503-0f9e-4595-a2ad-4a10eaf40129",
   "metadata": {},
   "outputs": [
    {
     "name": "stderr",
     "output_type": "stream",
     "text": [
      "/var/folders/ml/b32sv3j51m99nh7xvczpn81r0000gn/T/ipykernel_6418/3424655678.py:9: SettingWithCopyWarning: \n",
      "A value is trying to be set on a copy of a slice from a DataFrame.\n",
      "Try using .loc[row_indexer,col_indexer] = value instead\n",
      "\n",
      "See the caveats in the documentation: https://pandas.pydata.org/pandas-docs/stable/user_guide/indexing.html#returning-a-view-versus-a-copy\n",
      "  df_tmp['gdp'] = df_tmp['zip_code'].apply(k)\n"
     ]
    }
   ],
   "source": [
    "#get a new column of gdp\n",
    "def k(x):\n",
    "    fip = ziptofip[x]\n",
    "    if fip in fiptozip:\n",
    "        return tuple(fiptozip[fip])\n",
    "    else:\n",
    "        return -1\n",
    "    \n",
    "df_tmp['gdp'] = df_tmp['zip_code'].apply(k)"
   ]
  },
  {
   "cell_type": "code",
   "execution_count": 27,
   "id": "a28666f2-a229-4d64-9edc-f2310f7af6c3",
   "metadata": {},
   "outputs": [],
   "source": [
    "#get rid of nan data\n",
    "df_tmp = df_tmp.loc[df_tmp['gdp'] != -1]"
   ]
  },
  {
   "cell_type": "code",
   "execution_count": 28,
   "id": "547e026f-1af5-4d5f-9a46-0856f3aa91d8",
   "metadata": {},
   "outputs": [
    {
     "name": "stderr",
     "output_type": "stream",
     "text": [
      "/var/folders/ml/b32sv3j51m99nh7xvczpn81r0000gn/T/ipykernel_6418/2293908101.py:6: SettingWithCopyWarning: \n",
      "A value is trying to be set on a copy of a slice from a DataFrame.\n",
      "Try using .loc[row_indexer,col_indexer] = value instead\n",
      "\n",
      "See the caveats in the documentation: https://pandas.pydata.org/pandas-docs/stable/user_guide/indexing.html#returning-a-view-versus-a-copy\n",
      "  df_tmp['gdp'] = df_tmp.apply(lambda x: fxy(x['issue_y'], x['gdp']), axis=1)\n"
     ]
    }
   ],
   "source": [
    "#get final gdp\n",
    "def fxy(x, y):\n",
    "    ind = int(x)-2014\n",
    "    return y[ind]\n",
    "\n",
    "df_tmp['gdp'] = df_tmp.apply(lambda x: fxy(x['issue_y'], x['gdp']), axis=1)"
   ]
  },
  {
   "cell_type": "code",
   "execution_count": 29,
   "id": "5db222ef-670c-42f5-b0e0-1b522451d383",
   "metadata": {},
   "outputs": [
    {
     "name": "stderr",
     "output_type": "stream",
     "text": [
      "/var/folders/ml/b32sv3j51m99nh7xvczpn81r0000gn/T/ipykernel_6418/1075590900.py:14: DtypeWarning: Columns (2,8,9,10,11,12,13,14,15,16,17,18,19,20,21,22,23,24,25,26,27,28,29,30,31,32,33,34,35,36,37,38,39,40,41,42,43,44,45,46,47,48,49,50,51,52,53,54,55,56,57,58,59) have mixed types. Specify dtype option on import or set low_memory=False.\n",
      "  df = pd.read_csv(f, encoding = \"ISO-8859-1\")\n",
      "/var/folders/ml/b32sv3j51m99nh7xvczpn81r0000gn/T/ipykernel_6418/1075590900.py:14: DtypeWarning: Columns (8,9,10,11,12,13,14,15,16,17,18,19,20) have mixed types. Specify dtype option on import or set low_memory=False.\n",
      "  df = pd.read_csv(f, encoding = \"ISO-8859-1\")\n"
     ]
    }
   ],
   "source": [
    "#get a unemployment insurance dictionary dictionary\n",
    "inc_dict = dict() #zip to [year2014gdp, year2015gdp, ..., year 2018gdp]\n",
    "import os\n",
    "# assign directory\n",
    "directory = '../data/gdp/CAINC30/' #your GDP file directory\n",
    "#fiptozip = dict()\n",
    "\n",
    "# iterate over files in\n",
    "# that directory\n",
    "for filename in os.listdir(directory):\n",
    "    f = os.path.join(directory, filename)\n",
    "    # checking if it is a file\n",
    "    if not filename.startswith('.') and os.path.isfile(f):\n",
    "        df = pd.read_csv(f, encoding = \"ISO-8859-1\")\n",
    "        \n",
    "        def tostr(x):\n",
    "            try:\n",
    "                res = str(x[2:][:-1])\n",
    "                assert(len(res) == 5)\n",
    "            except:\n",
    "                res = \"\"\n",
    "\n",
    "            return res\n",
    "        \n",
    "        #print(df.columns)\n",
    "        df['GeoFIPS'] = df['GeoFIPS'].apply(tostr)\n",
    "        \n",
    "        df = df.loc[df['Description'] =='  Unemployment insurance compensation']\n",
    "        tmp = dict(zip(df.GeoFIPS.apply(str), df[ ['2014', '2015', '2016', '2017', '2018']].values))\n",
    "        inc_dict.update(tmp)"
   ]
  },
  {
   "cell_type": "code",
   "execution_count": 30,
   "id": "415d9596-676e-4690-b6d6-d35820d2f92d",
   "metadata": {},
   "outputs": [],
   "source": [
    "#get unemployment dictionary\n",
    "def k(x):\n",
    "    fip = ziptofip[x]\n",
    "    if fip in inc_dict:\n",
    "        return tuple(inc_dict[fip])\n",
    "    else:\n",
    "        return -1\n",
    "    \n",
    "df_tmp['unemployment_insurance'] = df_tmp['zip_code'].apply(k)"
   ]
  },
  {
   "cell_type": "code",
   "execution_count": 31,
   "id": "82b414ca-d8f0-4261-bd83-f40281000335",
   "metadata": {},
   "outputs": [
    {
     "name": "stderr",
     "output_type": "stream",
     "text": [
      "/var/folders/ml/b32sv3j51m99nh7xvczpn81r0000gn/T/ipykernel_6418/3464197326.py:14: DtypeWarning: Columns (2,8,9,10,11,12,13,14,15,16,17,18,19,20,21,22,23,24,25,26,27,28,29,30,31,32,33,34,35,36,37,38,39,40,41,42,43,44,45,46,47,48,49,50,51,52,53,54,55,56,57,58,59) have mixed types. Specify dtype option on import or set low_memory=False.\n",
      "  df = pd.read_csv(f, encoding = \"ISO-8859-1\")\n",
      "/var/folders/ml/b32sv3j51m99nh7xvczpn81r0000gn/T/ipykernel_6418/3464197326.py:14: DtypeWarning: Columns (8,9,10,11,12,13,14,15,16,17,18,19,20) have mixed types. Specify dtype option on import or set low_memory=False.\n",
      "  df = pd.read_csv(f, encoding = \"ISO-8859-1\")\n"
     ]
    }
   ],
   "source": [
    "#get dividend/interest/rent dictionary\n",
    "inc_dict = dict() #zip to [year2014gdp, year2015gdp, ..., year 2018gdp]\n",
    "import os\n",
    "# assign directory\n",
    "directory = '../data/gdp/CAINC30/' #your GDP file directory\n",
    "#fiptozip = dict()\n",
    "\n",
    "# iterate over files in\n",
    "# that directory\n",
    "for filename in os.listdir(directory):\n",
    "    f = os.path.join(directory, filename)\n",
    "    # checking if it is a file\n",
    "    if not filename.startswith('.') and os.path.isfile(f):\n",
    "        df = pd.read_csv(f, encoding = \"ISO-8859-1\")\n",
    "        \n",
    "        def tostr(x):\n",
    "            try:\n",
    "                res = str(x[2:][:-1])\n",
    "                assert(len(res) == 5)\n",
    "            except:\n",
    "                res = \"\"\n",
    "\n",
    "            return res\n",
    "        \n",
    "        #print(df.columns)\n",
    "        df['GeoFIPS'] = df['GeoFIPS'].apply(tostr)\n",
    "        \n",
    "        df = df.loc[df['Description'] ==' Dividends, interest, and rent 2/']\n",
    "        tmp = dict(zip(df.GeoFIPS.apply(str), df[ ['2014', '2015', '2016', '2017', '2018']].values))\n",
    "        inc_dict.update(tmp)\n"
   ]
  },
  {
   "cell_type": "code",
   "execution_count": 32,
   "id": "b4957add-0bb3-404d-b9ad-64b34a453615",
   "metadata": {},
   "outputs": [],
   "source": [
    "#get it in the df columns\n",
    "def k(x):\n",
    "    fip = ziptofip[x]\n",
    "    if fip in inc_dict:\n",
    "        return tuple(inc_dict[fip])\n",
    "    else:\n",
    "        return -1\n",
    "    \n",
    "df_tmp['div_rent_int'] = df_tmp['zip_code'].apply(k)"
   ]
  },
  {
   "cell_type": "code",
   "execution_count": 33,
   "id": "926f9961-cb12-49dc-9f67-a3a4a4951944",
   "metadata": {},
   "outputs": [],
   "source": [
    "#final change\n",
    "def fxy(x, y):\n",
    "    ind = int(x)-2014\n",
    "    return y[ind]\n",
    "\n",
    "df_tmp['unemployment_insurance'] = df_tmp.apply(lambda x: fxy(x['issue_y'], x['unemployment_insurance']), axis=1)\n",
    "df_tmp['div_rent_int'] = df_tmp.apply(lambda x: fxy(x['issue_y'], x['div_rent_int']), axis=1)"
   ]
  },
  {
   "cell_type": "code",
   "execution_count": 36,
   "id": "622eae58-4845-4c0f-8db6-a89c7d6404be",
   "metadata": {},
   "outputs": [
    {
     "data": {
      "text/plain": [
       "0          42101\n",
       "1          46105\n",
       "2          17197\n",
       "3          34003\n",
       "4          42133\n",
       "           ...  \n",
       "2029947    01103\n",
       "2029948    49057\n",
       "2029949    06059\n",
       "2029950    12099\n",
       "2029951    48201\n",
       "Name: FIPS, Length: 2029524, dtype: object"
      ]
     },
     "execution_count": 36,
     "metadata": {},
     "output_type": "execute_result"
    }
   ],
   "source": []
  },
  {
   "cell_type": "code",
   "execution_count": null,
   "id": "2105b221-3f74-4cca-b5d1-2447e6cf5647",
   "metadata": {},
   "outputs": [],
   "source": [
    "#convert to a dictionary"
   ]
  }
 ],
 "metadata": {
  "kernelspec": {
   "display_name": "Python 3.9.7 64-bit",
   "language": "python",
   "name": "python3"
  },
  "language_info": {
   "codemirror_mode": {
    "name": "ipython",
    "version": 3
   },
   "file_extension": ".py",
   "mimetype": "text/x-python",
   "name": "python",
   "nbconvert_exporter": "python",
   "pygments_lexer": "ipython3",
   "version": "3.9.7"
  },
  "vscode": {
   "interpreter": {
    "hash": "aee8b7b246df8f9039afb4144a1f6fd8d2ca17a180786b69acc140d282b71a49"
   }
  }
 },
 "nbformat": 4,
 "nbformat_minor": 5
}

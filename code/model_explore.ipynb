{
 "cells": [
  {
   "cell_type": "code",
   "execution_count": 1,
   "id": "17389d68-ac13-4616-bf0b-63fbb2c18c3f",
   "metadata": {},
   "outputs": [],
   "source": [
    "import pandas as pd\n",
    "from sklearn.model_selection import train_test_split"
   ]
  },
  {
   "cell_type": "markdown",
   "id": "40e6f128",
   "metadata": {},
   "source": [
    "# This is the exploration of the data, using the selected downsampled data"
   ]
  },
  {
   "cell_type": "code",
   "execution_count": 365,
   "id": "6a11205a-6bc7-438a-882d-6df520ebdb59",
   "metadata": {},
   "outputs": [],
   "source": [
    "path = '../data/processed_data/accept_downsampled_by_hardship.csv'"
   ]
  },
  {
   "cell_type": "code",
   "execution_count": 366,
   "id": "e5e0ef1d-9fd1-4a00-87b5-8402725d0207",
   "metadata": {},
   "outputs": [],
   "source": [
    "df1 = pd.read_csv(path)\n",
    "del df1['Unnamed: 0']"
   ]
  },
  {
   "cell_type": "code",
   "execution_count": 367,
   "id": "7cc5bab5-1b53-4418-bd87-08969e7839b2",
   "metadata": {},
   "outputs": [],
   "source": [
    "df1 = df1.dropna()"
   ]
  },
  {
   "cell_type": "code",
   "execution_count": 368,
   "id": "b986b8cf-32c4-409c-91be-8d53134e7f11",
   "metadata": {},
   "outputs": [],
   "source": [
    "#split dataframe\n",
    "y = df1['hardship']\n",
    "col_lis = list(df1.columns)\n",
    "col_lis.remove('hardship')\n",
    "X = df1[col_lis]"
   ]
  },
  {
   "cell_type": "code",
   "execution_count": 369,
   "id": "f590314d-aa42-4bb6-818c-a1a8f56a0bfe",
   "metadata": {},
   "outputs": [],
   "source": [
    "#split trainset\n",
    "X_train, X_val_test, y_train, y_val_test = train_test_split(X, y, test_size=0.3, random_state=15000)\n",
    "X_val, X_test, y_val, y_test = train_test_split(X_val_test, y_val_test, test_size=0.7, random_state=15000)"
   ]
  },
  {
   "cell_type": "code",
   "execution_count": 370,
   "id": "35aef724-64f8-4c12-9469-0c7ad020af54",
   "metadata": {},
   "outputs": [],
   "source": [
    "#normalize the trainset\n",
    "from sklearn.preprocessing import StandardScaler\n",
    "\n",
    "# create a scaler object\n",
    "std_scaler = StandardScaler()\n",
    "std_scaler\n",
    "# fit and transform the data\n",
    "X_train = pd.DataFrame(std_scaler.fit_transform(X_train), columns=X_train.columns)"
   ]
  },
  {
   "cell_type": "markdown",
   "id": "7660ae7d-70d0-4013-b432-7417da16e64e",
   "metadata": {},
   "source": [
    "### Train SVM Linear Kernel "
   ]
  },
  {
   "cell_type": "code",
   "execution_count": 345,
   "id": "115b1d52-ed1e-4a70-8fea-c882c293cdfc",
   "metadata": {},
   "outputs": [],
   "source": [
    "from sklearn.svm import SVC\n",
    "from sklearn.pipeline import make_pipeline\n",
    "from sklearn.preprocessing import StandardScaler"
   ]
  },
  {
   "cell_type": "code",
   "execution_count": 371,
   "id": "92002038-cb93-4cef-a099-24bc423ad403",
   "metadata": {},
   "outputs": [
    {
     "data": {
      "text/plain": [
       "Pipeline(steps=[('svc',\n",
       "                 SVC(C=0.8, gamma='auto', kernel='poly', random_state=150000))])"
      ]
     },
     "execution_count": 371,
     "metadata": {},
     "output_type": "execute_result"
    }
   ],
   "source": [
    "#create SVM pipline\n",
    "clf = make_pipeline(SVC(gamma='auto', kernel='poly', degree=3, C=0.8, random_state=150000))\n",
    "clf.fit(X_train, y_train)"
   ]
  },
  {
   "cell_type": "code",
   "execution_count": 372,
   "id": "9345627d-0aec-4763-abe4-8269829f945b",
   "metadata": {},
   "outputs": [
    {
     "data": {
      "text/plain": [
       "0.6854658057715114"
      ]
     },
     "execution_count": 372,
     "metadata": {},
     "output_type": "execute_result"
    }
   ],
   "source": [
    "# Training score\n",
    "clf.score(X_train, y_train)"
   ]
  },
  {
   "cell_type": "code",
   "execution_count": 373,
   "id": "ae126f38-02c7-49eb-8b60-26b2f09e0ad6",
   "metadata": {},
   "outputs": [
    {
     "data": {
      "text/plain": [
       "0.4927536231884058"
      ]
     },
     "execution_count": 373,
     "metadata": {},
     "output_type": "execute_result"
    }
   ],
   "source": [
    "# Test score\n",
    "clf.score(X_test, y_test)"
   ]
  },
  {
   "cell_type": "code",
   "execution_count": 320,
   "id": "85561437-e172-425a-91a1-92b540bdc4ea",
   "metadata": {},
   "outputs": [],
   "source": [
    "X_train = X_train * clf.coef_"
   ]
  },
  {
   "cell_type": "code",
   "execution_count": 132,
   "id": "70782c4f-adb2-4ca8-96bc-69e09aec773e",
   "metadata": {},
   "outputs": [
    {
     "name": "stdout",
     "output_type": "stream",
     "text": [
      "current iteration: 0\n",
      "current iteration: 1\n",
      "current iteration: 2\n",
      "current iteration: 3\n",
      "current iteration: 4\n",
      "current iteration: 5\n",
      "current iteration: 6\n",
      "current iteration: 7\n",
      "current iteration: 8\n",
      "current iteration: 9\n"
     ]
    }
   ],
   "source": [
    "#method43_dict = dict() #{accuracy: [weight]}\n",
    "#accuracy_lis = []\n",
    "\n",
    "for i in range(10):\n",
    "    print(f'current iteration: {i}')\n",
    "    \n",
    "    #train classifier\n",
    "    clf = SVC(kernel='linear')\n",
    "    clf.fit(X_train, y_train)\n",
    "    train_accuracy = clf.score(X_train, y_train)\n",
    "    \n",
    "    #generate dict\n",
    "    method43_dict[train_accuracy] = clf.coef_\n",
    "    accuracy_lis.append(train_accuracy)\n",
    "    \n",
    "    #update train\n",
    "    X_train = X_train * clf.coef_\n",
    "    \n",
    "    "
   ]
  },
  {
   "cell_type": "code",
   "execution_count": 130,
   "id": "08576b19-abc0-40da-b385-eda6ba7f6fba",
   "metadata": {},
   "outputs": [
    {
     "data": {
      "text/plain": [
       "[0.6901222816138244,\n",
       " 0.69187962217178,\n",
       " 0.6914402870322911,\n",
       " 0.6912206194625466,\n",
       " 0.6912938419857948,\n",
       " 0.6920260672182763,\n",
       " 0.6917331771252837,\n",
       " 0.691367064509043,\n",
       " 0.6912206194625466,\n",
       " 0.6911473969392985]"
      ]
     },
     "execution_count": 130,
     "metadata": {},
     "output_type": "execute_result"
    }
   ],
   "source": [
    "accuracy_lis"
   ]
  },
  {
   "cell_type": "code",
   "execution_count": 131,
   "id": "722768d5-f6a9-4fb6-9dc8-5b31f04f1178",
   "metadata": {},
   "outputs": [
    {
     "data": {
      "text/plain": [
       "array([[ 1.00112003e+000,  1.00816204e+000,  0.00000000e+000,\n",
       "         7.12275864e-302,  5.66644414e-014,  1.01078330e+000,\n",
       "         9.90598615e-001,  9.76898182e-001,  1.00110548e+000,\n",
       "         1.01450913e+000,  0.00000000e+000,  1.09827680e-300,\n",
       "         9.70212342e-001,  1.00383231e+000,  9.95830748e-001,\n",
       "         9.95927856e-001,  7.96915315e-004,  9.89750071e-001,\n",
       "         9.91304206e-001,  9.94301085e-001,  9.65402313e-001,\n",
       "         9.99024054e-001,  4.00548953e-025,  0.00000000e+000,\n",
       "         4.72518302e-267,  1.99697977e-147,  4.80728513e-038,\n",
       "         4.61761308e-032,  0.00000000e+000,  0.00000000e+000,\n",
       "         1.92692953e-012,  2.59070111e-113,  9.34204006e-002,\n",
       "         7.22186418e-160,  0.00000000e+000,  3.50221501e-175,\n",
       "         5.44456278e-020,  5.58454466e-036,  1.79284142e-046,\n",
       "        -1.39707290e-127,  9.83525630e-001,  9.88227879e-001,\n",
       "         6.91691904e-323,  1.67301605e-128,  1.08704940e+000,\n",
       "         1.35601990e-046,  0.00000000e+000,  2.86381143e-035,\n",
       "         2.42892696e-231,  5.63570316e-127,  9.88174118e-001,\n",
       "         1.40417651e-080,  0.00000000e+000,  0.00000000e+000,\n",
       "         2.69955754e-159,  1.00528848e+000,  1.16226022e+000,\n",
       "         1.05661224e+000,  9.09238886e-011,  5.08049964e-295,\n",
       "         1.03498726e+000,  5.13627209e-002,  9.89242889e-001,\n",
       "        -5.76632371e-251,  1.08546015e-004,  9.52356081e-004,\n",
       "         1.12235215e-012,  1.00480301e+000,  1.40260798e-020,\n",
       "         1.27587897e-047,  9.87856625e-001,  9.93449146e-001,\n",
       "         1.03341611e-239,  1.05729361e+000,  9.21228788e-001,\n",
       "         1.03109952e+000,  8.45908987e-001,  9.94538986e-001,\n",
       "         1.00209676e+000,  1.00567254e+000,  3.45477065e-135,\n",
       "         1.03029253e+000,  1.18060931e-008,  1.13567677e-039,\n",
       "         1.79164787e-137,  1.05347262e+000,  9.19337131e-001,\n",
       "         1.02944483e+000,  1.05189791e+000,  3.42731158e-106,\n",
       "         1.00413485e+000,  1.00505834e+000,  9.98560241e-001,\n",
       "         0.00000000e+000,  9.85165256e-001,  1.00639492e+000,\n",
       "         1.03009028e+000,  8.04552455e-001,  4.32454261e-216,\n",
       "         8.49626674e-081]])"
      ]
     },
     "execution_count": 131,
     "metadata": {},
     "output_type": "execute_result"
    }
   ],
   "source": [
    "list(method43_dict.values())[-1]"
   ]
  },
  {
   "cell_type": "markdown",
   "id": "83725f5d-6b7b-4a63-9a94-8940d64df5fc",
   "metadata": {},
   "source": [
    "### New SVM on PCA-ed dataset"
   ]
  },
  {
   "cell_type": "code",
   "execution_count": 124,
   "id": "5a93be29-d22b-45f0-87e0-618045af5b1f",
   "metadata": {},
   "outputs": [],
   "source": [
    "# dataset after tomek link file\n",
    "path = '../data/processed_data/tomeked.csv'"
   ]
  },
  {
   "cell_type": "code",
   "execution_count": 125,
   "id": "baa738a8-d9ec-4050-8074-550260ad141c",
   "metadata": {},
   "outputs": [],
   "source": [
    "df2 = pd.read_csv(path)\n",
    "del df2['Unnamed: 0']"
   ]
  },
  {
   "cell_type": "code",
   "execution_count": 126,
   "id": "35c682f0-e6b7-452d-8f57-dafb7a8773f7",
   "metadata": {},
   "outputs": [],
   "source": [
    "#split dataframe\n",
    "y = df2['hardship']\n",
    "col_lis = list(df2.columns)\n",
    "col_lis.remove('hardship')\n",
    "X = df2[col_lis]"
   ]
  },
  {
   "cell_type": "code",
   "execution_count": 127,
   "id": "2bc1e887-02c1-4a50-9a32-07ddc8f47a0e",
   "metadata": {},
   "outputs": [],
   "source": [
    "#split trainset\n",
    "X_train, X_val_test, y_train, y_val_test = train_test_split(X, y, test_size=0.3, random_state=150000)\n",
    "X_val, X_test, y_val, y_test = train_test_split(X_val_test, y_val_test, test_size=0.7, random_state=150000)"
   ]
  },
  {
   "cell_type": "code",
   "execution_count": 128,
   "id": "c531a2d1-e087-4d8c-ba4e-81e6fe882469",
   "metadata": {},
   "outputs": [],
   "source": [
    "#normalize the trainset\n",
    "from sklearn.preprocessing import StandardScaler\n",
    "\n",
    "# create a scaler object\n",
    "std_scaler = StandardScaler()\n",
    "std_scaler\n",
    "# fit and transform the data\n",
    "X_train = pd.DataFrame(std_scaler.fit_transform(X_train), columns=X_train.columns)"
   ]
  },
  {
   "cell_type": "code",
   "execution_count": 117,
   "id": "fc111a3d-f499-442e-879a-ce7cec8f9951",
   "metadata": {},
   "outputs": [
    {
     "data": {
      "text/plain": [
       "SVC(C=0.05, kernel='linear')"
      ]
     },
     "execution_count": 117,
     "metadata": {},
     "output_type": "execute_result"
    }
   ],
   "source": [
    "clf = SVC(C = 0.05, kernel='linear')\n",
    "clf.fit(X_train, y_train)"
   ]
  },
  {
   "cell_type": "code",
   "execution_count": 118,
   "id": "9f353642-9c30-45f8-9b52-043f1754eb5a",
   "metadata": {},
   "outputs": [
    {
     "data": {
      "text/plain": [
       "0.685582485172439"
      ]
     },
     "execution_count": 118,
     "metadata": {},
     "output_type": "execute_result"
    }
   ],
   "source": [
    "clf.score(X_train, y_train)"
   ]
  },
  {
   "cell_type": "code",
   "execution_count": 119,
   "id": "eecedb8c-d43e-4aec-95b1-d47fd6ffc9a2",
   "metadata": {},
   "outputs": [
    {
     "data": {
      "text/plain": [
       "0.5553928745729624"
      ]
     },
     "execution_count": 119,
     "metadata": {},
     "output_type": "execute_result"
    }
   ],
   "source": [
    "clf.score(X_test, y_test)"
   ]
  },
  {
   "cell_type": "code",
   "execution_count": 120,
   "id": "9e481a9a-f1b6-4e3a-bba6-2c26460c9e9e",
   "metadata": {},
   "outputs": [],
   "source": [
    "X_train = X_train * clf.coef_"
   ]
  },
  {
   "cell_type": "code",
   "execution_count": 121,
   "id": "91f10a20-2199-46b3-a35f-5c4b24b6f567",
   "metadata": {},
   "outputs": [
    {
     "data": {
      "text/html": [
       "<div>\n",
       "<style scoped>\n",
       "    .dataframe tbody tr th:only-of-type {\n",
       "        vertical-align: middle;\n",
       "    }\n",
       "\n",
       "    .dataframe tbody tr th {\n",
       "        vertical-align: top;\n",
       "    }\n",
       "\n",
       "    .dataframe thead th {\n",
       "        text-align: right;\n",
       "    }\n",
       "</style>\n",
       "<table border=\"1\" class=\"dataframe\">\n",
       "  <thead>\n",
       "    <tr style=\"text-align: right;\">\n",
       "      <th></th>\n",
       "      <th>revol_bal</th>\n",
       "      <th>out_prncp</th>\n",
       "      <th>tot_cur_bal</th>\n",
       "      <th>mo_sin_old_il_acct</th>\n",
       "      <th>mo_sin_old_rev_tl_op</th>\n",
       "      <th>fico_range_low</th>\n",
       "      <th>fico_range_high</th>\n",
       "      <th>delinq_2yrs</th>\n",
       "      <th>mths_since_last_delinq</th>\n",
       "      <th>pub_rec</th>\n",
       "      <th>...</th>\n",
       "      <th>HNAC_MALE</th>\n",
       "      <th>HNAC_FEMALE</th>\n",
       "      <th>id</th>\n",
       "      <th>veri_0</th>\n",
       "      <th>veri_1</th>\n",
       "      <th>veri_2</th>\n",
       "      <th>home_own_0</th>\n",
       "      <th>home_own_1</th>\n",
       "      <th>home_own_2</th>\n",
       "      <th>home_own_3</th>\n",
       "    </tr>\n",
       "  </thead>\n",
       "  <tbody>\n",
       "    <tr>\n",
       "      <th>0</th>\n",
       "      <td>-0.003303</td>\n",
       "      <td>0.003131</td>\n",
       "      <td>1.105072e-11</td>\n",
       "      <td>1.143187e-16</td>\n",
       "      <td>-0.000050</td>\n",
       "      <td>0.054513</td>\n",
       "      <td>0.054497</td>\n",
       "      <td>-0.003362</td>\n",
       "      <td>-0.017880</td>\n",
       "      <td>0.035561</td>\n",
       "      <td>...</td>\n",
       "      <td>0.023123</td>\n",
       "      <td>-0.013214</td>\n",
       "      <td>-0.095272</td>\n",
       "      <td>-1.272139e-08</td>\n",
       "      <td>0.113766</td>\n",
       "      <td>-0.067698</td>\n",
       "      <td>0.022383</td>\n",
       "      <td>0.005403</td>\n",
       "      <td>-0.000007</td>\n",
       "      <td>2.378833e-09</td>\n",
       "    </tr>\n",
       "    <tr>\n",
       "      <th>1</th>\n",
       "      <td>-0.003078</td>\n",
       "      <td>0.003131</td>\n",
       "      <td>1.248011e-11</td>\n",
       "      <td>3.087458e-16</td>\n",
       "      <td>0.000012</td>\n",
       "      <td>-0.015475</td>\n",
       "      <td>-0.015469</td>\n",
       "      <td>0.013341</td>\n",
       "      <td>0.019114</td>\n",
       "      <td>-0.011204</td>\n",
       "      <td>...</td>\n",
       "      <td>0.059315</td>\n",
       "      <td>-0.028684</td>\n",
       "      <td>0.116135</td>\n",
       "      <td>-1.272139e-08</td>\n",
       "      <td>0.113766</td>\n",
       "      <td>-0.067698</td>\n",
       "      <td>0.022383</td>\n",
       "      <td>0.005403</td>\n",
       "      <td>-0.000007</td>\n",
       "      <td>2.378833e-09</td>\n",
       "    </tr>\n",
       "    <tr>\n",
       "      <th>2</th>\n",
       "      <td>-0.000539</td>\n",
       "      <td>-0.002962</td>\n",
       "      <td>-5.087381e-12</td>\n",
       "      <td>-5.856190e-16</td>\n",
       "      <td>-0.000017</td>\n",
       "      <td>0.077843</td>\n",
       "      <td>0.077819</td>\n",
       "      <td>0.004989</td>\n",
       "      <td>0.018617</td>\n",
       "      <td>-0.011204</td>\n",
       "      <td>...</td>\n",
       "      <td>0.057952</td>\n",
       "      <td>-0.007395</td>\n",
       "      <td>-0.324564</td>\n",
       "      <td>9.388052e-09</td>\n",
       "      <td>0.113766</td>\n",
       "      <td>0.148066</td>\n",
       "      <td>-0.024609</td>\n",
       "      <td>-0.003746</td>\n",
       "      <td>-0.000007</td>\n",
       "      <td>2.378833e-09</td>\n",
       "    </tr>\n",
       "    <tr>\n",
       "      <th>3</th>\n",
       "      <td>-0.001946</td>\n",
       "      <td>-0.007563</td>\n",
       "      <td>-9.156021e-12</td>\n",
       "      <td>4.586143e-15</td>\n",
       "      <td>-0.000009</td>\n",
       "      <td>0.031184</td>\n",
       "      <td>0.031175</td>\n",
       "      <td>0.013341</td>\n",
       "      <td>0.018245</td>\n",
       "      <td>-0.011204</td>\n",
       "      <td>...</td>\n",
       "      <td>-0.005099</td>\n",
       "      <td>0.001211</td>\n",
       "      <td>0.196708</td>\n",
       "      <td>9.388052e-09</td>\n",
       "      <td>0.113766</td>\n",
       "      <td>0.148066</td>\n",
       "      <td>0.022383</td>\n",
       "      <td>0.005403</td>\n",
       "      <td>-0.000007</td>\n",
       "      <td>2.378833e-09</td>\n",
       "    </tr>\n",
       "    <tr>\n",
       "      <th>4</th>\n",
       "      <td>-0.001449</td>\n",
       "      <td>0.003131</td>\n",
       "      <td>-8.966786e-12</td>\n",
       "      <td>4.642875e-16</td>\n",
       "      <td>-0.000008</td>\n",
       "      <td>0.101172</td>\n",
       "      <td>0.101141</td>\n",
       "      <td>0.013341</td>\n",
       "      <td>0.016631</td>\n",
       "      <td>-0.011204</td>\n",
       "      <td>...</td>\n",
       "      <td>0.177514</td>\n",
       "      <td>-0.079501</td>\n",
       "      <td>-0.048369</td>\n",
       "      <td>-1.272139e-08</td>\n",
       "      <td>0.113766</td>\n",
       "      <td>-0.067698</td>\n",
       "      <td>-0.024609</td>\n",
       "      <td>-0.003746</td>\n",
       "      <td>-0.000007</td>\n",
       "      <td>2.378833e-09</td>\n",
       "    </tr>\n",
       "    <tr>\n",
       "      <th>...</th>\n",
       "      <td>...</td>\n",
       "      <td>...</td>\n",
       "      <td>...</td>\n",
       "      <td>...</td>\n",
       "      <td>...</td>\n",
       "      <td>...</td>\n",
       "      <td>...</td>\n",
       "      <td>...</td>\n",
       "      <td>...</td>\n",
       "      <td>...</td>\n",
       "      <td>...</td>\n",
       "      <td>...</td>\n",
       "      <td>...</td>\n",
       "      <td>...</td>\n",
       "      <td>...</td>\n",
       "      <td>...</td>\n",
       "      <td>...</td>\n",
       "      <td>...</td>\n",
       "      <td>...</td>\n",
       "      <td>...</td>\n",
       "      <td>...</td>\n",
       "    </tr>\n",
       "    <tr>\n",
       "      <th>13652</th>\n",
       "      <td>-0.003847</td>\n",
       "      <td>0.002685</td>\n",
       "      <td>1.279993e-11</td>\n",
       "      <td>-4.979672e-15</td>\n",
       "      <td>-0.000037</td>\n",
       "      <td>-0.225440</td>\n",
       "      <td>-0.225368</td>\n",
       "      <td>-0.003362</td>\n",
       "      <td>-0.017880</td>\n",
       "      <td>-0.011204</td>\n",
       "      <td>...</td>\n",
       "      <td>-0.046110</td>\n",
       "      <td>0.020797</td>\n",
       "      <td>0.102224</td>\n",
       "      <td>9.388052e-09</td>\n",
       "      <td>-0.321079</td>\n",
       "      <td>-0.067698</td>\n",
       "      <td>0.022383</td>\n",
       "      <td>0.005403</td>\n",
       "      <td>-0.000007</td>\n",
       "      <td>2.378833e-09</td>\n",
       "    </tr>\n",
       "    <tr>\n",
       "      <th>13653</th>\n",
       "      <td>0.000421</td>\n",
       "      <td>-0.011515</td>\n",
       "      <td>1.038790e-11</td>\n",
       "      <td>-3.134210e-16</td>\n",
       "      <td>0.000026</td>\n",
       "      <td>-0.132122</td>\n",
       "      <td>-0.132079</td>\n",
       "      <td>-0.003362</td>\n",
       "      <td>-0.017880</td>\n",
       "      <td>-0.011204</td>\n",
       "      <td>...</td>\n",
       "      <td>0.112814</td>\n",
       "      <td>-0.051102</td>\n",
       "      <td>-0.630576</td>\n",
       "      <td>9.388052e-09</td>\n",
       "      <td>-0.321079</td>\n",
       "      <td>-0.067698</td>\n",
       "      <td>0.022383</td>\n",
       "      <td>0.005403</td>\n",
       "      <td>-0.000007</td>\n",
       "      <td>2.378833e-09</td>\n",
       "    </tr>\n",
       "    <tr>\n",
       "      <th>13654</th>\n",
       "      <td>-0.002250</td>\n",
       "      <td>0.003131</td>\n",
       "      <td>1.286111e-11</td>\n",
       "      <td>-4.551933e-15</td>\n",
       "      <td>-0.000052</td>\n",
       "      <td>-0.132122</td>\n",
       "      <td>-0.132079</td>\n",
       "      <td>-0.003362</td>\n",
       "      <td>-0.017880</td>\n",
       "      <td>-0.011204</td>\n",
       "      <td>...</td>\n",
       "      <td>-0.087458</td>\n",
       "      <td>0.027190</td>\n",
       "      <td>0.231632</td>\n",
       "      <td>9.388052e-09</td>\n",
       "      <td>0.113766</td>\n",
       "      <td>0.148066</td>\n",
       "      <td>0.022383</td>\n",
       "      <td>0.005403</td>\n",
       "      <td>-0.000007</td>\n",
       "      <td>2.378833e-09</td>\n",
       "    </tr>\n",
       "    <tr>\n",
       "      <th>13655</th>\n",
       "      <td>-0.002938</td>\n",
       "      <td>0.001021</td>\n",
       "      <td>-6.245479e-12</td>\n",
       "      <td>-3.268714e-15</td>\n",
       "      <td>-0.000021</td>\n",
       "      <td>0.007854</td>\n",
       "      <td>0.007853</td>\n",
       "      <td>-0.003362</td>\n",
       "      <td>0.016010</td>\n",
       "      <td>0.035561</td>\n",
       "      <td>...</td>\n",
       "      <td>0.122586</td>\n",
       "      <td>-0.012214</td>\n",
       "      <td>0.258291</td>\n",
       "      <td>9.388052e-09</td>\n",
       "      <td>0.113766</td>\n",
       "      <td>0.148066</td>\n",
       "      <td>-0.024609</td>\n",
       "      <td>-0.003746</td>\n",
       "      <td>-0.000007</td>\n",
       "      <td>2.378833e-09</td>\n",
       "    </tr>\n",
       "    <tr>\n",
       "      <th>13656</th>\n",
       "      <td>-0.003756</td>\n",
       "      <td>0.003131</td>\n",
       "      <td>-3.850487e-11</td>\n",
       "      <td>-1.189939e-16</td>\n",
       "      <td>-0.000032</td>\n",
       "      <td>0.031184</td>\n",
       "      <td>0.031175</td>\n",
       "      <td>-0.003362</td>\n",
       "      <td>-0.017880</td>\n",
       "      <td>0.035561</td>\n",
       "      <td>...</td>\n",
       "      <td>0.077919</td>\n",
       "      <td>-0.023359</td>\n",
       "      <td>0.308923</td>\n",
       "      <td>9.388052e-09</td>\n",
       "      <td>-0.321079</td>\n",
       "      <td>-0.067698</td>\n",
       "      <td>-0.024609</td>\n",
       "      <td>-0.003746</td>\n",
       "      <td>-0.000007</td>\n",
       "      <td>2.378833e-09</td>\n",
       "    </tr>\n",
       "  </tbody>\n",
       "</table>\n",
       "<p>13657 rows × 100 columns</p>\n",
       "</div>"
      ],
      "text/plain": [
       "       revol_bal  out_prncp   tot_cur_bal  mo_sin_old_il_acct  \\\n",
       "0      -0.003303   0.003131  1.105072e-11        1.143187e-16   \n",
       "1      -0.003078   0.003131  1.248011e-11        3.087458e-16   \n",
       "2      -0.000539  -0.002962 -5.087381e-12       -5.856190e-16   \n",
       "3      -0.001946  -0.007563 -9.156021e-12        4.586143e-15   \n",
       "4      -0.001449   0.003131 -8.966786e-12        4.642875e-16   \n",
       "...          ...        ...           ...                 ...   \n",
       "13652  -0.003847   0.002685  1.279993e-11       -4.979672e-15   \n",
       "13653   0.000421  -0.011515  1.038790e-11       -3.134210e-16   \n",
       "13654  -0.002250   0.003131  1.286111e-11       -4.551933e-15   \n",
       "13655  -0.002938   0.001021 -6.245479e-12       -3.268714e-15   \n",
       "13656  -0.003756   0.003131 -3.850487e-11       -1.189939e-16   \n",
       "\n",
       "       mo_sin_old_rev_tl_op  fico_range_low  fico_range_high  delinq_2yrs  \\\n",
       "0                 -0.000050        0.054513         0.054497    -0.003362   \n",
       "1                  0.000012       -0.015475        -0.015469     0.013341   \n",
       "2                 -0.000017        0.077843         0.077819     0.004989   \n",
       "3                 -0.000009        0.031184         0.031175     0.013341   \n",
       "4                 -0.000008        0.101172         0.101141     0.013341   \n",
       "...                     ...             ...              ...          ...   \n",
       "13652             -0.000037       -0.225440        -0.225368    -0.003362   \n",
       "13653              0.000026       -0.132122        -0.132079    -0.003362   \n",
       "13654             -0.000052       -0.132122        -0.132079    -0.003362   \n",
       "13655             -0.000021        0.007854         0.007853    -0.003362   \n",
       "13656             -0.000032        0.031184         0.031175    -0.003362   \n",
       "\n",
       "       mths_since_last_delinq   pub_rec  ...  HNAC_MALE  HNAC_FEMALE  \\\n",
       "0                   -0.017880  0.035561  ...   0.023123    -0.013214   \n",
       "1                    0.019114 -0.011204  ...   0.059315    -0.028684   \n",
       "2                    0.018617 -0.011204  ...   0.057952    -0.007395   \n",
       "3                    0.018245 -0.011204  ...  -0.005099     0.001211   \n",
       "4                    0.016631 -0.011204  ...   0.177514    -0.079501   \n",
       "...                       ...       ...  ...        ...          ...   \n",
       "13652               -0.017880 -0.011204  ...  -0.046110     0.020797   \n",
       "13653               -0.017880 -0.011204  ...   0.112814    -0.051102   \n",
       "13654               -0.017880 -0.011204  ...  -0.087458     0.027190   \n",
       "13655                0.016010  0.035561  ...   0.122586    -0.012214   \n",
       "13656               -0.017880  0.035561  ...   0.077919    -0.023359   \n",
       "\n",
       "             id        veri_0    veri_1    veri_2  home_own_0  home_own_1  \\\n",
       "0     -0.095272 -1.272139e-08  0.113766 -0.067698    0.022383    0.005403   \n",
       "1      0.116135 -1.272139e-08  0.113766 -0.067698    0.022383    0.005403   \n",
       "2     -0.324564  9.388052e-09  0.113766  0.148066   -0.024609   -0.003746   \n",
       "3      0.196708  9.388052e-09  0.113766  0.148066    0.022383    0.005403   \n",
       "4     -0.048369 -1.272139e-08  0.113766 -0.067698   -0.024609   -0.003746   \n",
       "...         ...           ...       ...       ...         ...         ...   \n",
       "13652  0.102224  9.388052e-09 -0.321079 -0.067698    0.022383    0.005403   \n",
       "13653 -0.630576  9.388052e-09 -0.321079 -0.067698    0.022383    0.005403   \n",
       "13654  0.231632  9.388052e-09  0.113766  0.148066    0.022383    0.005403   \n",
       "13655  0.258291  9.388052e-09  0.113766  0.148066   -0.024609   -0.003746   \n",
       "13656  0.308923  9.388052e-09 -0.321079 -0.067698   -0.024609   -0.003746   \n",
       "\n",
       "       home_own_2    home_own_3  \n",
       "0       -0.000007  2.378833e-09  \n",
       "1       -0.000007  2.378833e-09  \n",
       "2       -0.000007  2.378833e-09  \n",
       "3       -0.000007  2.378833e-09  \n",
       "4       -0.000007  2.378833e-09  \n",
       "...           ...           ...  \n",
       "13652   -0.000007  2.378833e-09  \n",
       "13653   -0.000007  2.378833e-09  \n",
       "13654   -0.000007  2.378833e-09  \n",
       "13655   -0.000007  2.378833e-09  \n",
       "13656   -0.000007  2.378833e-09  \n",
       "\n",
       "[13657 rows x 100 columns]"
      ]
     },
     "execution_count": 121,
     "metadata": {},
     "output_type": "execute_result"
    }
   ],
   "source": [
    "X_train"
   ]
  }
 ],
 "metadata": {
  "kernelspec": {
   "display_name": "Python 3 (ipykernel)",
   "language": "python",
   "name": "python3"
  },
  "language_info": {
   "codemirror_mode": {
    "name": "ipython",
    "version": 3
   },
   "file_extension": ".py",
   "mimetype": "text/x-python",
   "name": "python",
   "nbconvert_exporter": "python",
   "pygments_lexer": "ipython3",
   "version": "3.9.6"
  }
 },
 "nbformat": 4,
 "nbformat_minor": 5
}

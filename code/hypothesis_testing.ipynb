{
 "cells": [
  {
   "cell_type": "code",
   "execution_count": 56,
   "id": "5602f426-fcd3-4a86-9dbb-b9416315d35b",
   "metadata": {},
   "outputs": [],
   "source": [
    "import pandas as pd\n",
    "from sklearn.model_selection import train_test_split\n",
    "from statsmodels.stats.weightstats import ztest\n",
    "import statsmodels\n",
    "import scipy"
   ]
  },
  {
   "cell_type": "code",
   "execution_count": 89,
   "id": "1f449d77-5557-4f18-9efb-4cbfdc014292",
   "metadata": {},
   "outputs": [],
   "source": [
    "path = '../data/processed_data/df1_one_hot.gz'# path to final file \n",
    "path_feature = '../data/processed_data/RF_important_feature.csv' #path to important featuers\n",
    "df1 = pd.read_csv(path, compression='gzip', header=0, sep=',', quotechar='\"')\n",
    "df1_path_feature = pd.read_csv(path_feature)"
   ]
  },
  {
   "cell_type": "code",
   "execution_count": 121,
   "id": "f2b7130f-0326-4013-a02a-0a95fd677724",
   "metadata": {},
   "outputs": [],
   "source": [
    "df1_path = '../data/processed_data/accept_downsampled_by_hardship.csv'\n",
    "df1 = pd.read_csv(df1_path)"
   ]
  },
  {
   "cell_type": "code",
   "execution_count": 122,
   "id": "8a8e4bf3-1530-488d-828f-09d7b36fdb13",
   "metadata": {},
   "outputs": [],
   "source": [
    "del df1['Unnamed: 0']"
   ]
  },
  {
   "cell_type": "code",
   "execution_count": 123,
   "id": "d34fbac8-6d22-4cf6-86ce-e8d935102fbe",
   "metadata": {},
   "outputs": [],
   "source": [
    "#separate dataset\n",
    "df1_h = df1.loc[df1['hardship'] == 1]\n",
    "df1_nh = df1.loc[df1['hardship'] == 0]"
   ]
  },
  {
   "cell_type": "code",
   "execution_count": 93,
   "id": "99e1ac7c-406a-4fcd-86ab-8ec08a308d79",
   "metadata": {},
   "outputs": [],
   "source": [
    "#load important feature\n",
    "#input df; output: list of features\n",
    "def df_to_lis(df):\n",
    "    return list(df['0'][:30])"
   ]
  },
  {
   "cell_type": "markdown",
   "id": "720c4e4f-b8f1-49d5-ae7e-db4659978169",
   "metadata": {},
   "source": [
    "### Bonferroni Correction"
   ]
  },
  {
   "cell_type": "code",
   "execution_count": 94,
   "id": "d8c0a918-cc20-4cf5-83c4-aef7e55c4060",
   "metadata": {},
   "outputs": [],
   "source": [
    "feature_lis = df_to_lis(df1_path_feature)\n",
    "p = 0.05 #original p\n",
    "new_p = 0.05/len(feature_lis)"
   ]
  },
  {
   "cell_type": "code",
   "execution_count": 95,
   "id": "ddd913e8-43e1-479a-ba2b-ab3d601af60d",
   "metadata": {},
   "outputs": [
    {
     "data": {
      "text/plain": [
       "0.0016666666666666668"
      ]
     },
     "execution_count": 95,
     "metadata": {},
     "output_type": "execute_result"
    }
   ],
   "source": [
    "new_p"
   ]
  },
  {
   "cell_type": "code",
   "execution_count": 96,
   "id": "59e25d1f-30c0-4f2b-a846-93ce6f5a6ed6",
   "metadata": {},
   "outputs": [],
   "source": [
    "feature_res_dict = dict() #dict {feature(str): reject(bool)}\n",
    "\n",
    "import statsmodels.stats.weightstats as ws\n",
    "\n",
    "for feature in feature_lis:\n",
    "    \n",
    "    feature_h = df1_h[feature].copy()\n",
    "    feature_nh = df1_nh[feature].copy()\n",
    "    \n",
    "    \n",
    "    #transform to approximately normal\n",
    "    feature_h = scipy.stats.yeojohnson(feature_h)[0]\n",
    "    feature_nh = scipy.stats.yeojohnson(feature_nh)[0]\n",
    "    \n",
    "    col1 = ws.DescrStatsW(feature_h)\n",
    "    col2 = ws.DescrStatsW(feature_nh)\n",
    "    \n",
    "    cm_obj = ws.CompareMeans(col2, col1)\n",
    "    \n",
    "    zstat, z_pval = cm_obj.ztest_ind(usevar='unequal')\n",
    "    \n",
    "    #conduct p val\n",
    "    #zstats, p_val = statsmodels.stats.weightstats.CompareMeans.ztest_ind(feature_h, feature_nh, usevar='unequal', value=0)\n",
    "    \n",
    "    #print(p_val)\n",
    "    #check if a feature is significant\n",
    "    feature_res_dict[feature] = (z_pval, zstat, z_pval < new_p)\n",
    "    \n",
    "    #print(z_pval)"
   ]
  },
  {
   "cell_type": "code",
   "execution_count": 88,
   "id": "8e7a78e5-ac17-4197-8008-864c6189059e",
   "metadata": {},
   "outputs": [
    {
     "data": {
      "text/plain": [
       "3.13434406231674e-14"
      ]
     },
     "execution_count": 88,
     "metadata": {},
     "output_type": "execute_result"
    }
   ],
   "source": [
    "import numpy as np\n",
    "from scipy.stats import chi2_contingency\n",
    "\n",
    "def chisquare(variable, df_nh, df_h):\n",
    "    \n",
    "    hardship = []\n",
    "    n_hardship = []\n",
    "    \n",
    "    if variable == 'veri':\n",
    "        \n",
    "        for tag in ['veri_0', 'veri_1', 'veri_2']:\n",
    "            hardship.append(df_h[tag].sum())\n",
    "            n_hardship.append(df_nh[tag].sum())\n",
    "    \n",
    "    else:\n",
    "        assert(variable == 'home')\n",
    "        \n",
    "        for tag in ['home_own_0', 'home_own_1', 'home_own_2', 'home_own_3']:\n",
    "            hardship.append(df_h[tag].sum())\n",
    "            n_hardship.append(df_nh[tag].sum())\n",
    "    \n",
    "    data = np.array([hardship, n_hardship])\n",
    "    \n",
    "    chi2, p, dof, ex = chi2_contingency(data, correction=False)\n",
    "    \n",
    "    return p\n",
    "\n",
    "chisquare('home', df1_nh, df1_h)"
   ]
  },
  {
   "cell_type": "code",
   "execution_count": 101,
   "id": "c9553ab5-6572-4ee7-a837-bbb8eadbba8d",
   "metadata": {},
   "outputs": [
    {
     "data": {
      "text/plain": [
       "True"
      ]
     },
     "execution_count": 101,
     "metadata": {},
     "output_type": "execute_result"
    }
   ],
   "source": [
    "chisquare('home', df1_nh, df1_h) < new_p"
   ]
  },
  {
   "cell_type": "code",
   "execution_count": 100,
   "id": "fc800cf5-b618-4fe4-800b-2f1353d27b84",
   "metadata": {},
   "outputs": [
    {
     "data": {
      "text/plain": [
       "True"
      ]
     },
     "execution_count": 100,
     "metadata": {},
     "output_type": "execute_result"
    }
   ],
   "source": [
    "chisquare('veri', df1_nh, df1_h) < new_p"
   ]
  },
  {
   "cell_type": "markdown",
   "id": "16605aef-0a23-4eb0-8ec1-b2461215f0c3",
   "metadata": {},
   "source": [
    "### SVM Testing"
   ]
  },
  {
   "cell_type": "code",
   "execution_count": 102,
   "id": "7c2973a1-ba83-407b-b0ee-4ff7ca2909c3",
   "metadata": {},
   "outputs": [],
   "source": [
    "svm_path = '/Users/mac/Desktop/untitled folder/svm_importance.csv'"
   ]
  },
  {
   "cell_type": "code",
   "execution_count": 103,
   "id": "7d1ae971-0824-4418-9b9d-2d8a832f226d",
   "metadata": {},
   "outputs": [],
   "source": [
    "svm_df = pd.read_csv(svm_path)"
   ]
  },
  {
   "cell_type": "code",
   "execution_count": 108,
   "id": "4c95c760-fb9b-41d5-8a87-716d07ea8e27",
   "metadata": {},
   "outputs": [],
   "source": [
    "feature_lis = svm_df['1'][:30]"
   ]
  },
  {
   "cell_type": "code",
   "execution_count": 110,
   "id": "ac059c8f-cd40-405d-9b13-bf1fbfe9e0f7",
   "metadata": {},
   "outputs": [],
   "source": [
    "feature_res_dict = dict() #dict {feature(str): reject(bool)}\n",
    "\n",
    "import statsmodels.stats.weightstats as ws\n",
    "\n",
    "for feature in feature_lis:\n",
    "    \n",
    "    feature_h = df1_h[feature].copy()\n",
    "    feature_nh = df1_nh[feature].copy()\n",
    "    \n",
    "    \n",
    "    #transform to approximately normal\n",
    "    feature_h = scipy.stats.yeojohnson(feature_h)[0]\n",
    "    feature_nh = scipy.stats.yeojohnson(feature_nh)[0]\n",
    "    \n",
    "    col1 = ws.DescrStatsW(feature_h)\n",
    "    col2 = ws.DescrStatsW(feature_nh)\n",
    "    \n",
    "    cm_obj = ws.CompareMeans(col2, col1)\n",
    "    \n",
    "    zstat, z_pval = cm_obj.ztest_ind(usevar='unequal')\n",
    "    \n",
    "    #conduct p val\n",
    "    #zstats, p_val = statsmodels.stats.weightstats.CompareMeans.ztest_ind(feature_h, feature_nh, usevar='unequal', value=0)\n",
    "    \n",
    "    #print(p_val)\n",
    "    #check if a feature is significant\n",
    "    feature_res_dict[feature] = (z_pval, zstat, z_pval < new_p)\n",
    "    \n",
    "    #print(z_pval)"
   ]
  },
  {
   "cell_type": "markdown",
   "id": "5b23bb3b-a752-48a7-b9bd-f41dfc53c8ad",
   "metadata": {},
   "source": [
    "### Tree"
   ]
  },
  {
   "cell_type": "code",
   "execution_count": 246,
   "id": "fc81a51a-2f00-4896-b14e-29421f6a5876",
   "metadata": {},
   "outputs": [],
   "source": [
    "feature = ['dti', 'total_rev_hi_lim', 'unemployment_insur', 'annual_inc', 'open_acc']"
   ]
  },
  {
   "cell_type": "code",
   "execution_count": 247,
   "id": "6c631ee4-4543-4fc7-a4b6-509a1669a53b",
   "metadata": {},
   "outputs": [],
   "source": [
    "y = df1['hardship']\n",
    "col_lis = list(df1.columns)\n",
    "col_lis.remove('hardship')\n",
    "X = df1[feature]"
   ]
  },
  {
   "cell_type": "code",
   "execution_count": 248,
   "id": "d2cb6814-5576-4bef-ae5f-45fea54286c7",
   "metadata": {},
   "outputs": [],
   "source": [
    "X_train, X_val_test, y_train, y_val_test = train_test_split(X, y, test_size=0.3, random_state=150000)\n",
    "X_val, X_test, y_val, y_test = train_test_split(X_val_test, y_val_test, test_size=0.7, random_state=150000)"
   ]
  },
  {
   "cell_type": "code",
   "execution_count": 249,
   "id": "d03f15e8-247e-43f1-884c-fde1bf331381",
   "metadata": {},
   "outputs": [],
   "source": [
    "from sklearn import tree\n",
    "clf = tree.DecisionTreeClassifier(max_depth = 6, criterion='entropy', max_leaf_nodes = 25)\n",
    "clf = clf.fit(X_train, y_train)"
   ]
  },
  {
   "cell_type": "code",
   "execution_count": 250,
   "id": "55782a34-0332-4314-90b9-f3eab2298bce",
   "metadata": {},
   "outputs": [],
   "source": [
    "import graphviz "
   ]
  },
  {
   "cell_type": "code",
   "execution_count": 251,
   "id": "72e289e2-f55e-4ef2-b73a-cbd8152a5da4",
   "metadata": {},
   "outputs": [
    {
     "data": {
      "text/plain": [
       "'/Users/mac/Desktop/untitled folder/tree.pdf'"
      ]
     },
     "execution_count": 251,
     "metadata": {},
     "output_type": "execute_result"
    }
   ],
   "source": [
    "dot_data = tree.export_graphviz(clf, out_file=None) \n",
    "graph = graphviz.Source(dot_data)"
   ]
  },
  {
   "cell_type": "code",
   "execution_count": 252,
   "id": "90db15e5-fbd1-4b86-97ee-658209fbec33",
   "metadata": {},
   "outputs": [],
   "source": [
    "dot_data = tree.export_graphviz(clf, out_file=None, \n",
    "                      feature_names=X_train.columns,  \n",
    "                      class_names=['hardship', 'non-hardship'],  \n",
    "                      filled=True, rounded=True,  \n",
    "                      special_characters=True)"
   ]
  },
  {
   "cell_type": "code",
   "execution_count": 253,
   "id": "343b9881-1f32-43f6-9cf2-14d2adce2228",
   "metadata": {},
   "outputs": [
    {
     "data": {
      "image/svg+xml": "<?xml version=\"1.0\" encoding=\"UTF-8\" standalone=\"no\"?>\n<!DOCTYPE svg PUBLIC \"-//W3C//DTD SVG 1.1//EN\"\n \"http://www.w3.org/Graphics/SVG/1.1/DTD/svg11.dtd\">\n<!-- Generated by graphviz version 2.50.0 (0)\n -->\n<!-- Title: Tree Pages: 1 -->\n<svg width=\"2664pt\" height=\"790pt\"\n viewBox=\"0.00 0.00 2664.00 790.00\" xmlns=\"http://www.w3.org/2000/svg\" xmlns:xlink=\"http://www.w3.org/1999/xlink\">\n<g id=\"graph0\" class=\"graph\" transform=\"scale(1 1) rotate(0) translate(4 786)\">\n<title>Tree</title>\n<polygon fill=\"white\" stroke=\"transparent\" points=\"-4,4 -4,-786 2660,-786 2660,4 -4,4\"/>\n<!-- 0 -->\n<g id=\"node1\" class=\"node\">\n<title>0</title>\n<path fill=\"#fffefe\" stroke=\"black\" d=\"M964.5,-782C964.5,-782 848.5,-782 848.5,-782 842.5,-782 836.5,-776 836.5,-770 836.5,-770 836.5,-711 836.5,-711 836.5,-705 842.5,-699 848.5,-699 848.5,-699 964.5,-699 964.5,-699 970.5,-699 976.5,-705 976.5,-711 976.5,-711 976.5,-770 976.5,-770 976.5,-776 970.5,-782 964.5,-782\"/>\n<text text-anchor=\"start\" x=\"860\" y=\"-766.8\" font-family=\"Helvetica,sans-Serif\" font-size=\"14.00\">open_acc ≤ 7.5</text>\n<text text-anchor=\"start\" x=\"866.5\" y=\"-751.8\" font-family=\"Helvetica,sans-Serif\" font-size=\"14.00\">entropy = 1.0</text>\n<text text-anchor=\"start\" x=\"854\" y=\"-736.8\" font-family=\"Helvetica,sans-Serif\" font-size=\"14.00\">samples = 15178</text>\n<text text-anchor=\"start\" x=\"844.5\" y=\"-721.8\" font-family=\"Helvetica,sans-Serif\" font-size=\"14.00\">value = [7605, 7573]</text>\n<text text-anchor=\"start\" x=\"857\" y=\"-706.8\" font-family=\"Helvetica,sans-Serif\" font-size=\"14.00\">class = hardship</text>\n</g>\n<!-- 1 -->\n<g id=\"node2\" class=\"node\">\n<title>1</title>\n<path fill=\"#fbeade\" stroke=\"black\" d=\"M882.5,-663C882.5,-663 766.5,-663 766.5,-663 760.5,-663 754.5,-657 754.5,-651 754.5,-651 754.5,-592 754.5,-592 754.5,-586 760.5,-580 766.5,-580 766.5,-580 882.5,-580 882.5,-580 888.5,-580 894.5,-586 894.5,-592 894.5,-592 894.5,-651 894.5,-651 894.5,-657 888.5,-663 882.5,-663\"/>\n<text text-anchor=\"start\" x=\"778\" y=\"-647.8\" font-family=\"Helvetica,sans-Serif\" font-size=\"14.00\">open_acc ≤ 4.5</text>\n<text text-anchor=\"start\" x=\"777\" y=\"-632.8\" font-family=\"Helvetica,sans-Serif\" font-size=\"14.00\">entropy = 0.994</text>\n<text text-anchor=\"start\" x=\"776\" y=\"-617.8\" font-family=\"Helvetica,sans-Serif\" font-size=\"14.00\">samples = 3221</text>\n<text text-anchor=\"start\" x=\"762.5\" y=\"-602.8\" font-family=\"Helvetica,sans-Serif\" font-size=\"14.00\">value = [1757, 1464]</text>\n<text text-anchor=\"start\" x=\"775\" y=\"-587.8\" font-family=\"Helvetica,sans-Serif\" font-size=\"14.00\">class = hardship</text>\n</g>\n<!-- 0&#45;&gt;1 -->\n<g id=\"edge1\" class=\"edge\">\n<title>0&#45;&gt;1</title>\n<path fill=\"none\" stroke=\"black\" d=\"M878.05,-698.91C871.82,-690.01 865.16,-680.51 858.72,-671.33\"/>\n<polygon fill=\"black\" stroke=\"black\" points=\"861.5,-669.2 852.9,-663.02 855.77,-673.22 861.5,-669.2\"/>\n<text text-anchor=\"middle\" x=\"848.57\" y=\"-683.94\" font-family=\"Helvetica,sans-Serif\" font-size=\"14.00\">True</text>\n</g>\n<!-- 2 -->\n<g id=\"node13\" class=\"node\">\n<title>2</title>\n<path fill=\"#f7fbfe\" stroke=\"black\" d=\"M1072.5,-663C1072.5,-663 954.5,-663 954.5,-663 948.5,-663 942.5,-657 942.5,-651 942.5,-651 942.5,-592 942.5,-592 942.5,-586 948.5,-580 954.5,-580 954.5,-580 1072.5,-580 1072.5,-580 1078.5,-580 1084.5,-586 1084.5,-592 1084.5,-592 1084.5,-651 1084.5,-651 1084.5,-657 1078.5,-663 1072.5,-663\"/>\n<text text-anchor=\"start\" x=\"963.5\" y=\"-647.8\" font-family=\"Helvetica,sans-Serif\" font-size=\"14.00\">open_acc ≤ 24.5</text>\n<text text-anchor=\"start\" x=\"973.5\" y=\"-632.8\" font-family=\"Helvetica,sans-Serif\" font-size=\"14.00\">entropy = 1.0</text>\n<text text-anchor=\"start\" x=\"961\" y=\"-617.8\" font-family=\"Helvetica,sans-Serif\" font-size=\"14.00\">samples = 11957</text>\n<text text-anchor=\"start\" x=\"951.5\" y=\"-602.8\" font-family=\"Helvetica,sans-Serif\" font-size=\"14.00\">value = [5848, 6109]</text>\n<text text-anchor=\"start\" x=\"950.5\" y=\"-587.8\" font-family=\"Helvetica,sans-Serif\" font-size=\"14.00\">class = non&#45;hardship</text>\n</g>\n<!-- 0&#45;&gt;2 -->\n<g id=\"edge12\" class=\"edge\">\n<title>0&#45;&gt;2</title>\n<path fill=\"none\" stroke=\"black\" d=\"M943.62,-698.91C952.01,-689.74 960.98,-679.93 969.61,-670.49\"/>\n<polygon fill=\"black\" stroke=\"black\" points=\"972.28,-672.76 976.44,-663.02 967.11,-668.04 972.28,-672.76\"/>\n<text text-anchor=\"middle\" x=\"977.56\" y=\"-684.3\" font-family=\"Helvetica,sans-Serif\" font-size=\"14.00\">False</text>\n</g>\n<!-- 9 -->\n<g id=\"node3\" class=\"node\">\n<title>9</title>\n<path fill=\"#f7d6bf\" stroke=\"black\" d=\"M580,-544C580,-544 451,-544 451,-544 445,-544 439,-538 439,-532 439,-532 439,-473 439,-473 439,-467 445,-461 451,-461 451,-461 580,-461 580,-461 586,-461 592,-467 592,-473 592,-473 592,-532 592,-532 592,-538 586,-544 580,-544\"/>\n<text text-anchor=\"start\" x=\"447\" y=\"-528.8\" font-family=\"Helvetica,sans-Serif\" font-size=\"14.00\">annual_inc ≤ 103295.0</text>\n<text text-anchor=\"start\" x=\"468\" y=\"-513.8\" font-family=\"Helvetica,sans-Serif\" font-size=\"14.00\">entropy = 0.973</text>\n<text text-anchor=\"start\" x=\"470.5\" y=\"-498.8\" font-family=\"Helvetica,sans-Serif\" font-size=\"14.00\">samples = 642</text>\n<text text-anchor=\"start\" x=\"461\" y=\"-483.8\" font-family=\"Helvetica,sans-Serif\" font-size=\"14.00\">value = [383, 259]</text>\n<text text-anchor=\"start\" x=\"466\" y=\"-468.8\" font-family=\"Helvetica,sans-Serif\" font-size=\"14.00\">class = hardship</text>\n</g>\n<!-- 1&#45;&gt;9 -->\n<g id=\"edge2\" class=\"edge\">\n<title>1&#45;&gt;9</title>\n<path fill=\"none\" stroke=\"black\" d=\"M754.38,-593.95C709.06,-576.79 649.76,-554.34 601.59,-536.1\"/>\n<polygon fill=\"black\" stroke=\"black\" points=\"602.7,-532.77 592.11,-532.51 600.22,-539.32 602.7,-532.77\"/>\n</g>\n<!-- 10 -->\n<g id=\"node12\" class=\"node\">\n<title>10</title>\n<path fill=\"#fcf0e7\" stroke=\"black\" d=\"M882.5,-536.5C882.5,-536.5 766.5,-536.5 766.5,-536.5 760.5,-536.5 754.5,-530.5 754.5,-524.5 754.5,-524.5 754.5,-480.5 754.5,-480.5 754.5,-474.5 760.5,-468.5 766.5,-468.5 766.5,-468.5 882.5,-468.5 882.5,-468.5 888.5,-468.5 894.5,-474.5 894.5,-480.5 894.5,-480.5 894.5,-524.5 894.5,-524.5 894.5,-530.5 888.5,-536.5 882.5,-536.5\"/>\n<text text-anchor=\"start\" x=\"777\" y=\"-521.3\" font-family=\"Helvetica,sans-Serif\" font-size=\"14.00\">entropy = 0.997</text>\n<text text-anchor=\"start\" x=\"776\" y=\"-506.3\" font-family=\"Helvetica,sans-Serif\" font-size=\"14.00\">samples = 2579</text>\n<text text-anchor=\"start\" x=\"762.5\" y=\"-491.3\" font-family=\"Helvetica,sans-Serif\" font-size=\"14.00\">value = [1374, 1205]</text>\n<text text-anchor=\"start\" x=\"775\" y=\"-476.3\" font-family=\"Helvetica,sans-Serif\" font-size=\"14.00\">class = hardship</text>\n</g>\n<!-- 1&#45;&gt;10 -->\n<g id=\"edge11\" class=\"edge\">\n<title>1&#45;&gt;10</title>\n<path fill=\"none\" stroke=\"black\" d=\"M824.5,-579.91C824.5,-569.2 824.5,-557.62 824.5,-546.78\"/>\n<polygon fill=\"black\" stroke=\"black\" points=\"828,-546.67 824.5,-536.67 821,-546.67 828,-546.67\"/>\n</g>\n<!-- 11 -->\n<g id=\"node4\" class=\"node\">\n<title>11</title>\n<path fill=\"#f8dcc8\" stroke=\"black\" d=\"M396.5,-425C396.5,-425 274.5,-425 274.5,-425 268.5,-425 262.5,-419 262.5,-413 262.5,-413 262.5,-354 262.5,-354 262.5,-348 268.5,-342 274.5,-342 274.5,-342 396.5,-342 396.5,-342 402.5,-342 408.5,-348 408.5,-354 408.5,-354 408.5,-413 408.5,-413 408.5,-419 402.5,-425 396.5,-425\"/>\n<text text-anchor=\"start\" x=\"270.5\" y=\"-409.8\" font-family=\"Helvetica,sans-Serif\" font-size=\"14.00\">annual_inc ≤ 99100.0</text>\n<text text-anchor=\"start\" x=\"288\" y=\"-394.8\" font-family=\"Helvetica,sans-Serif\" font-size=\"14.00\">entropy = 0.981</text>\n<text text-anchor=\"start\" x=\"290.5\" y=\"-379.8\" font-family=\"Helvetica,sans-Serif\" font-size=\"14.00\">samples = 585</text>\n<text text-anchor=\"start\" x=\"281\" y=\"-364.8\" font-family=\"Helvetica,sans-Serif\" font-size=\"14.00\">value = [340, 245]</text>\n<text text-anchor=\"start\" x=\"286\" y=\"-349.8\" font-family=\"Helvetica,sans-Serif\" font-size=\"14.00\">class = hardship</text>\n</g>\n<!-- 9&#45;&gt;11 -->\n<g id=\"edge3\" class=\"edge\">\n<title>9&#45;&gt;11</title>\n<path fill=\"none\" stroke=\"black\" d=\"M453.05,-460.91C437.97,-451.11 421.75,-440.56 406.32,-430.53\"/>\n<polygon fill=\"black\" stroke=\"black\" points=\"408.13,-427.54 397.84,-425.02 404.32,-433.41 408.13,-427.54\"/>\n</g>\n<!-- 12 -->\n<g id=\"node9\" class=\"node\">\n<title>12</title>\n<path fill=\"#edaa79\" stroke=\"black\" d=\"M580,-425C580,-425 451,-425 451,-425 445,-425 439,-419 439,-413 439,-413 439,-354 439,-354 439,-348 445,-342 451,-342 451,-342 580,-342 580,-342 586,-342 592,-348 592,-354 592,-354 592,-413 592,-413 592,-419 586,-425 580,-425\"/>\n<text text-anchor=\"start\" x=\"447\" y=\"-409.8\" font-family=\"Helvetica,sans-Serif\" font-size=\"14.00\">annual_inc ≤ 119500.0</text>\n<text text-anchor=\"start\" x=\"468\" y=\"-394.8\" font-family=\"Helvetica,sans-Serif\" font-size=\"14.00\">entropy = 0.804</text>\n<text text-anchor=\"start\" x=\"474.5\" y=\"-379.8\" font-family=\"Helvetica,sans-Serif\" font-size=\"14.00\">samples = 57</text>\n<text text-anchor=\"start\" x=\"468.5\" y=\"-364.8\" font-family=\"Helvetica,sans-Serif\" font-size=\"14.00\">value = [43, 14]</text>\n<text text-anchor=\"start\" x=\"466\" y=\"-349.8\" font-family=\"Helvetica,sans-Serif\" font-size=\"14.00\">class = hardship</text>\n</g>\n<!-- 9&#45;&gt;12 -->\n<g id=\"edge8\" class=\"edge\">\n<title>9&#45;&gt;12</title>\n<path fill=\"none\" stroke=\"black\" d=\"M515.5,-460.91C515.5,-452.65 515.5,-443.86 515.5,-435.3\"/>\n<polygon fill=\"black\" stroke=\"black\" points=\"519,-435.02 515.5,-425.02 512,-435.02 519,-435.02\"/>\n</g>\n<!-- 45 -->\n<g id=\"node5\" class=\"node\">\n<title>45</title>\n<path fill=\"#f7d9c4\" stroke=\"black\" d=\"M234.5,-306C234.5,-306 112.5,-306 112.5,-306 106.5,-306 100.5,-300 100.5,-294 100.5,-294 100.5,-235 100.5,-235 100.5,-229 106.5,-223 112.5,-223 112.5,-223 234.5,-223 234.5,-223 240.5,-223 246.5,-229 246.5,-235 246.5,-235 246.5,-294 246.5,-294 246.5,-300 240.5,-306 234.5,-306\"/>\n<text text-anchor=\"start\" x=\"108.5\" y=\"-290.8\" font-family=\"Helvetica,sans-Serif\" font-size=\"14.00\">annual_inc ≤ 97225.0</text>\n<text text-anchor=\"start\" x=\"126\" y=\"-275.8\" font-family=\"Helvetica,sans-Serif\" font-size=\"14.00\">entropy = 0.977</text>\n<text text-anchor=\"start\" x=\"128.5\" y=\"-260.8\" font-family=\"Helvetica,sans-Serif\" font-size=\"14.00\">samples = 566</text>\n<text text-anchor=\"start\" x=\"119\" y=\"-245.8\" font-family=\"Helvetica,sans-Serif\" font-size=\"14.00\">value = [333, 233]</text>\n<text text-anchor=\"start\" x=\"124\" y=\"-230.8\" font-family=\"Helvetica,sans-Serif\" font-size=\"14.00\">class = hardship</text>\n</g>\n<!-- 11&#45;&gt;45 -->\n<g id=\"edge4\" class=\"edge\">\n<title>11&#45;&gt;45</title>\n<path fill=\"none\" stroke=\"black\" d=\"M279.29,-341.91C265.98,-332.29 251.67,-321.95 238.01,-312.09\"/>\n<polygon fill=\"black\" stroke=\"black\" points=\"239.76,-309.04 229.61,-306.02 235.66,-314.71 239.76,-309.04\"/>\n</g>\n<!-- 46 -->\n<g id=\"node8\" class=\"node\">\n<title>46</title>\n<path fill=\"#acd6f4\" stroke=\"black\" d=\"M394.5,-298.5C394.5,-298.5 276.5,-298.5 276.5,-298.5 270.5,-298.5 264.5,-292.5 264.5,-286.5 264.5,-286.5 264.5,-242.5 264.5,-242.5 264.5,-236.5 270.5,-230.5 276.5,-230.5 276.5,-230.5 394.5,-230.5 394.5,-230.5 400.5,-230.5 406.5,-236.5 406.5,-242.5 406.5,-242.5 406.5,-286.5 406.5,-286.5 406.5,-292.5 400.5,-298.5 394.5,-298.5\"/>\n<text text-anchor=\"start\" x=\"288\" y=\"-283.3\" font-family=\"Helvetica,sans-Serif\" font-size=\"14.00\">entropy = 0.949</text>\n<text text-anchor=\"start\" x=\"294.5\" y=\"-268.3\" font-family=\"Helvetica,sans-Serif\" font-size=\"14.00\">samples = 19</text>\n<text text-anchor=\"start\" x=\"292.5\" y=\"-253.3\" font-family=\"Helvetica,sans-Serif\" font-size=\"14.00\">value = [7, 12]</text>\n<text text-anchor=\"start\" x=\"272.5\" y=\"-238.3\" font-family=\"Helvetica,sans-Serif\" font-size=\"14.00\">class = non&#45;hardship</text>\n</g>\n<!-- 11&#45;&gt;46 -->\n<g id=\"edge7\" class=\"edge\">\n<title>11&#45;&gt;46</title>\n<path fill=\"none\" stroke=\"black\" d=\"M335.5,-341.91C335.5,-331.2 335.5,-319.62 335.5,-308.78\"/>\n<polygon fill=\"black\" stroke=\"black\" points=\"339,-308.67 335.5,-298.67 332,-308.67 339,-308.67\"/>\n</g>\n<!-- 47 -->\n<g id=\"node6\" class=\"node\">\n<title>47</title>\n<path fill=\"#f7dac5\" stroke=\"black\" d=\"M113,-179.5C113,-179.5 12,-179.5 12,-179.5 6,-179.5 0,-173.5 0,-167.5 0,-167.5 0,-123.5 0,-123.5 0,-117.5 6,-111.5 12,-111.5 12,-111.5 113,-111.5 113,-111.5 119,-111.5 125,-117.5 125,-123.5 125,-123.5 125,-167.5 125,-167.5 125,-173.5 119,-179.5 113,-179.5\"/>\n<text text-anchor=\"start\" x=\"15\" y=\"-164.3\" font-family=\"Helvetica,sans-Serif\" font-size=\"14.00\">entropy = 0.979</text>\n<text text-anchor=\"start\" x=\"17.5\" y=\"-149.3\" font-family=\"Helvetica,sans-Serif\" font-size=\"14.00\">samples = 562</text>\n<text text-anchor=\"start\" x=\"8\" y=\"-134.3\" font-family=\"Helvetica,sans-Serif\" font-size=\"14.00\">value = [329, 233]</text>\n<text text-anchor=\"start\" x=\"13\" y=\"-119.3\" font-family=\"Helvetica,sans-Serif\" font-size=\"14.00\">class = hardship</text>\n</g>\n<!-- 45&#45;&gt;47 -->\n<g id=\"edge5\" class=\"edge\">\n<title>45&#45;&gt;47</title>\n<path fill=\"none\" stroke=\"black\" d=\"M134.99,-222.91C124,-211.32 112.02,-198.7 101.03,-187.11\"/>\n<polygon fill=\"black\" stroke=\"black\" points=\"103.39,-184.51 93.97,-179.67 98.31,-189.33 103.39,-184.51\"/>\n</g>\n<!-- 48 -->\n<g id=\"node7\" class=\"node\">\n<title>48</title>\n<path fill=\"#e58139\" stroke=\"black\" d=\"M246,-179.5C246,-179.5 155,-179.5 155,-179.5 149,-179.5 143,-173.5 143,-167.5 143,-167.5 143,-123.5 143,-123.5 143,-117.5 149,-111.5 155,-111.5 155,-111.5 246,-111.5 246,-111.5 252,-111.5 258,-117.5 258,-123.5 258,-123.5 258,-167.5 258,-167.5 258,-173.5 252,-179.5 246,-179.5\"/>\n<text text-anchor=\"start\" x=\"160.5\" y=\"-164.3\" font-family=\"Helvetica,sans-Serif\" font-size=\"14.00\">entropy = 0.0</text>\n<text text-anchor=\"start\" x=\"163\" y=\"-149.3\" font-family=\"Helvetica,sans-Serif\" font-size=\"14.00\">samples = 4</text>\n<text text-anchor=\"start\" x=\"161\" y=\"-134.3\" font-family=\"Helvetica,sans-Serif\" font-size=\"14.00\">value = [4, 0]</text>\n<text text-anchor=\"start\" x=\"151\" y=\"-119.3\" font-family=\"Helvetica,sans-Serif\" font-size=\"14.00\">class = hardship</text>\n</g>\n<!-- 45&#45;&gt;48 -->\n<g id=\"edge6\" class=\"edge\">\n<title>45&#45;&gt;48</title>\n<path fill=\"none\" stroke=\"black\" d=\"M182.87,-222.91C185.36,-212.09 188.07,-200.38 190.59,-189.44\"/>\n<polygon fill=\"black\" stroke=\"black\" points=\"194.01,-190.2 192.85,-179.67 187.19,-188.62 194.01,-190.2\"/>\n</g>\n<!-- 43 -->\n<g id=\"node10\" class=\"node\">\n<title>43</title>\n<path fill=\"#e78b48\" stroke=\"black\" d=\"M528,-298.5C528,-298.5 437,-298.5 437,-298.5 431,-298.5 425,-292.5 425,-286.5 425,-286.5 425,-242.5 425,-242.5 425,-236.5 431,-230.5 437,-230.5 437,-230.5 528,-230.5 528,-230.5 534,-230.5 540,-236.5 540,-242.5 540,-242.5 540,-286.5 540,-286.5 540,-292.5 534,-298.5 528,-298.5\"/>\n<text text-anchor=\"start\" x=\"435\" y=\"-283.3\" font-family=\"Helvetica,sans-Serif\" font-size=\"14.00\">entropy = 0.371</text>\n<text text-anchor=\"start\" x=\"441.5\" y=\"-268.3\" font-family=\"Helvetica,sans-Serif\" font-size=\"14.00\">samples = 14</text>\n<text text-anchor=\"start\" x=\"439.5\" y=\"-253.3\" font-family=\"Helvetica,sans-Serif\" font-size=\"14.00\">value = [13, 1]</text>\n<text text-anchor=\"start\" x=\"433\" y=\"-238.3\" font-family=\"Helvetica,sans-Serif\" font-size=\"14.00\">class = hardship</text>\n</g>\n<!-- 12&#45;&gt;43 -->\n<g id=\"edge9\" class=\"edge\">\n<title>12&#45;&gt;43</title>\n<path fill=\"none\" stroke=\"black\" d=\"M504.05,-341.91C501,-331.09 497.7,-319.38 494.61,-308.44\"/>\n<polygon fill=\"black\" stroke=\"black\" points=\"497.94,-307.34 491.85,-298.67 491.2,-309.24 497.94,-307.34\"/>\n</g>\n<!-- 44 -->\n<g id=\"node11\" class=\"node\">\n<title>44</title>\n<path fill=\"#f0b88f\" stroke=\"black\" d=\"M661,-298.5C661,-298.5 570,-298.5 570,-298.5 564,-298.5 558,-292.5 558,-286.5 558,-286.5 558,-242.5 558,-242.5 558,-236.5 564,-230.5 570,-230.5 570,-230.5 661,-230.5 661,-230.5 667,-230.5 673,-236.5 673,-242.5 673,-242.5 673,-286.5 673,-286.5 673,-292.5 667,-298.5 661,-298.5\"/>\n<text text-anchor=\"start\" x=\"568\" y=\"-283.3\" font-family=\"Helvetica,sans-Serif\" font-size=\"14.00\">entropy = 0.884</text>\n<text text-anchor=\"start\" x=\"574.5\" y=\"-268.3\" font-family=\"Helvetica,sans-Serif\" font-size=\"14.00\">samples = 43</text>\n<text text-anchor=\"start\" x=\"568.5\" y=\"-253.3\" font-family=\"Helvetica,sans-Serif\" font-size=\"14.00\">value = [30, 13]</text>\n<text text-anchor=\"start\" x=\"566\" y=\"-238.3\" font-family=\"Helvetica,sans-Serif\" font-size=\"14.00\">class = hardship</text>\n</g>\n<!-- 12&#45;&gt;44 -->\n<g id=\"edge10\" class=\"edge\">\n<title>12&#45;&gt;44</title>\n<path fill=\"none\" stroke=\"black\" d=\"M550.19,-341.91C560,-330.43 570.68,-317.94 580.51,-306.44\"/>\n<polygon fill=\"black\" stroke=\"black\" points=\"583.32,-308.54 587.15,-298.67 577.99,-303.99 583.32,-308.54\"/>\n</g>\n<!-- 3 -->\n<g id=\"node14\" class=\"node\">\n<title>3</title>\n<path fill=\"#f9fcfe\" stroke=\"black\" d=\"M1078,-544C1078,-544 949,-544 949,-544 943,-544 937,-538 937,-532 937,-532 937,-473 937,-473 937,-467 943,-461 949,-461 949,-461 1078,-461 1078,-461 1084,-461 1090,-467 1090,-473 1090,-473 1090,-532 1090,-532 1090,-538 1084,-544 1078,-544\"/>\n<text text-anchor=\"start\" x=\"945\" y=\"-528.8\" font-family=\"Helvetica,sans-Serif\" font-size=\"14.00\">annual_inc ≤ 862500.0</text>\n<text text-anchor=\"start\" x=\"973.5\" y=\"-513.8\" font-family=\"Helvetica,sans-Serif\" font-size=\"14.00\">entropy = 1.0</text>\n<text text-anchor=\"start\" x=\"961\" y=\"-498.8\" font-family=\"Helvetica,sans-Serif\" font-size=\"14.00\">samples = 11413</text>\n<text text-anchor=\"start\" x=\"951.5\" y=\"-483.8\" font-family=\"Helvetica,sans-Serif\" font-size=\"14.00\">value = [5621, 5792]</text>\n<text text-anchor=\"start\" x=\"950.5\" y=\"-468.8\" font-family=\"Helvetica,sans-Serif\" font-size=\"14.00\">class = non&#45;hardship</text>\n</g>\n<!-- 2&#45;&gt;3 -->\n<g id=\"edge13\" class=\"edge\">\n<title>2&#45;&gt;3</title>\n<path fill=\"none\" stroke=\"black\" d=\"M1013.5,-579.91C1013.5,-571.65 1013.5,-562.86 1013.5,-554.3\"/>\n<polygon fill=\"black\" stroke=\"black\" points=\"1017,-554.02 1013.5,-544.02 1010,-554.02 1017,-554.02\"/>\n</g>\n<!-- 4 -->\n<g id=\"node31\" class=\"node\">\n<title>4</title>\n<path fill=\"#c7e3f8\" stroke=\"black\" d=\"M1745.5,-544C1745.5,-544 1623.5,-544 1623.5,-544 1617.5,-544 1611.5,-538 1611.5,-532 1611.5,-532 1611.5,-473 1611.5,-473 1611.5,-467 1617.5,-461 1623.5,-461 1623.5,-461 1745.5,-461 1745.5,-461 1751.5,-461 1757.5,-467 1757.5,-473 1757.5,-473 1757.5,-532 1757.5,-532 1757.5,-538 1751.5,-544 1745.5,-544\"/>\n<text text-anchor=\"start\" x=\"1619.5\" y=\"-528.8\" font-family=\"Helvetica,sans-Serif\" font-size=\"14.00\">annual_inc ≤ 61412.5</text>\n<text text-anchor=\"start\" x=\"1640.5\" y=\"-513.8\" font-family=\"Helvetica,sans-Serif\" font-size=\"14.00\">entropy = 0.98</text>\n<text text-anchor=\"start\" x=\"1639.5\" y=\"-498.8\" font-family=\"Helvetica,sans-Serif\" font-size=\"14.00\">samples = 544</text>\n<text text-anchor=\"start\" x=\"1630\" y=\"-483.8\" font-family=\"Helvetica,sans-Serif\" font-size=\"14.00\">value = [227, 317]</text>\n<text text-anchor=\"start\" x=\"1621.5\" y=\"-468.8\" font-family=\"Helvetica,sans-Serif\" font-size=\"14.00\">class = non&#45;hardship</text>\n</g>\n<!-- 2&#45;&gt;4 -->\n<g id=\"edge30\" class=\"edge\">\n<title>2&#45;&gt;4</title>\n<path fill=\"none\" stroke=\"black\" d=\"M1084.67,-608.09C1209.67,-586.29 1467.97,-541.25 1601.12,-518.04\"/>\n<polygon fill=\"black\" stroke=\"black\" points=\"1602.01,-521.44 1611.26,-516.27 1600.81,-514.54 1602.01,-521.44\"/>\n</g>\n<!-- 27 -->\n<g id=\"node15\" class=\"node\">\n<title>27</title>\n<path fill=\"#f9fcfe\" stroke=\"black\" d=\"M1002,-425C1002,-425 873,-425 873,-425 867,-425 861,-419 861,-413 861,-413 861,-354 861,-354 861,-348 867,-342 873,-342 873,-342 1002,-342 1002,-342 1008,-342 1014,-348 1014,-354 1014,-354 1014,-413 1014,-413 1014,-419 1008,-425 1002,-425\"/>\n<text text-anchor=\"start\" x=\"869\" y=\"-409.8\" font-family=\"Helvetica,sans-Serif\" font-size=\"14.00\">annual_inc ≤ 117365.0</text>\n<text text-anchor=\"start\" x=\"897.5\" y=\"-394.8\" font-family=\"Helvetica,sans-Serif\" font-size=\"14.00\">entropy = 1.0</text>\n<text text-anchor=\"start\" x=\"885\" y=\"-379.8\" font-family=\"Helvetica,sans-Serif\" font-size=\"14.00\">samples = 11410</text>\n<text text-anchor=\"start\" x=\"875.5\" y=\"-364.8\" font-family=\"Helvetica,sans-Serif\" font-size=\"14.00\">value = [5618, 5792]</text>\n<text text-anchor=\"start\" x=\"874.5\" y=\"-349.8\" font-family=\"Helvetica,sans-Serif\" font-size=\"14.00\">class = non&#45;hardship</text>\n</g>\n<!-- 3&#45;&gt;27 -->\n<g id=\"edge14\" class=\"edge\">\n<title>3&#45;&gt;27</title>\n<path fill=\"none\" stroke=\"black\" d=\"M987.13,-460.91C981.41,-452.1 975.31,-442.7 969.4,-433.61\"/>\n<polygon fill=\"black\" stroke=\"black\" points=\"972.2,-431.5 963.82,-425.02 966.33,-435.31 972.2,-431.5\"/>\n</g>\n<!-- 28 -->\n<g id=\"node30\" class=\"node\">\n<title>28</title>\n<path fill=\"#e58139\" stroke=\"black\" d=\"M1135,-417.5C1135,-417.5 1044,-417.5 1044,-417.5 1038,-417.5 1032,-411.5 1032,-405.5 1032,-405.5 1032,-361.5 1032,-361.5 1032,-355.5 1038,-349.5 1044,-349.5 1044,-349.5 1135,-349.5 1135,-349.5 1141,-349.5 1147,-355.5 1147,-361.5 1147,-361.5 1147,-405.5 1147,-405.5 1147,-411.5 1141,-417.5 1135,-417.5\"/>\n<text text-anchor=\"start\" x=\"1049.5\" y=\"-402.3\" font-family=\"Helvetica,sans-Serif\" font-size=\"14.00\">entropy = 0.0</text>\n<text text-anchor=\"start\" x=\"1052\" y=\"-387.3\" font-family=\"Helvetica,sans-Serif\" font-size=\"14.00\">samples = 3</text>\n<text text-anchor=\"start\" x=\"1050\" y=\"-372.3\" font-family=\"Helvetica,sans-Serif\" font-size=\"14.00\">value = [3, 0]</text>\n<text text-anchor=\"start\" x=\"1040\" y=\"-357.3\" font-family=\"Helvetica,sans-Serif\" font-size=\"14.00\">class = hardship</text>\n</g>\n<!-- 3&#45;&gt;28 -->\n<g id=\"edge29\" class=\"edge\">\n<title>3&#45;&gt;28</title>\n<path fill=\"none\" stroke=\"black\" d=\"M1039.87,-460.91C1047.18,-449.65 1055.13,-437.42 1062.47,-426.11\"/>\n<polygon fill=\"black\" stroke=\"black\" points=\"1065.44,-427.96 1067.96,-417.67 1059.57,-424.15 1065.44,-427.96\"/>\n</g>\n<!-- 29 -->\n<g id=\"node16\" class=\"node\">\n<title>29</title>\n<path fill=\"#f6fbfe\" stroke=\"black\" d=\"M821.5,-306C821.5,-306 703.5,-306 703.5,-306 697.5,-306 691.5,-300 691.5,-294 691.5,-294 691.5,-235 691.5,-235 691.5,-229 697.5,-223 703.5,-223 703.5,-223 821.5,-223 821.5,-223 827.5,-223 833.5,-229 833.5,-235 833.5,-235 833.5,-294 833.5,-294 833.5,-300 827.5,-306 821.5,-306\"/>\n<text text-anchor=\"start\" x=\"712.5\" y=\"-290.8\" font-family=\"Helvetica,sans-Serif\" font-size=\"14.00\">open_acc ≤ 13.5</text>\n<text text-anchor=\"start\" x=\"722.5\" y=\"-275.8\" font-family=\"Helvetica,sans-Serif\" font-size=\"14.00\">entropy = 1.0</text>\n<text text-anchor=\"start\" x=\"714\" y=\"-260.8\" font-family=\"Helvetica,sans-Serif\" font-size=\"14.00\">samples = 9594</text>\n<text text-anchor=\"start\" x=\"700.5\" y=\"-245.8\" font-family=\"Helvetica,sans-Serif\" font-size=\"14.00\">value = [4686, 4908]</text>\n<text text-anchor=\"start\" x=\"699.5\" y=\"-230.8\" font-family=\"Helvetica,sans-Serif\" font-size=\"14.00\">class = non&#45;hardship</text>\n</g>\n<!-- 27&#45;&gt;29 -->\n<g id=\"edge15\" class=\"edge\">\n<title>27&#45;&gt;29</title>\n<path fill=\"none\" stroke=\"black\" d=\"M876.78,-341.91C862.26,-332.2 846.65,-321.76 831.77,-311.81\"/>\n<polygon fill=\"black\" stroke=\"black\" points=\"833.37,-308.67 823.11,-306.02 829.48,-314.49 833.37,-308.67\"/>\n</g>\n<!-- 30 -->\n<g id=\"node23\" class=\"node\">\n<title>30</title>\n<path fill=\"#fef9f5\" stroke=\"black\" d=\"M1049,-306C1049,-306 920,-306 920,-306 914,-306 908,-300 908,-294 908,-294 908,-235 908,-235 908,-229 914,-223 920,-223 920,-223 1049,-223 1049,-223 1055,-223 1061,-229 1061,-235 1061,-235 1061,-294 1061,-294 1061,-300 1055,-306 1049,-306\"/>\n<text text-anchor=\"start\" x=\"916\" y=\"-290.8\" font-family=\"Helvetica,sans-Serif\" font-size=\"14.00\">annual_inc ≤ 141405.0</text>\n<text text-anchor=\"start\" x=\"937\" y=\"-275.8\" font-family=\"Helvetica,sans-Serif\" font-size=\"14.00\">entropy = 0.999</text>\n<text text-anchor=\"start\" x=\"936\" y=\"-260.8\" font-family=\"Helvetica,sans-Serif\" font-size=\"14.00\">samples = 1816</text>\n<text text-anchor=\"start\" x=\"930\" y=\"-245.8\" font-family=\"Helvetica,sans-Serif\" font-size=\"14.00\">value = [932, 884]</text>\n<text text-anchor=\"start\" x=\"935\" y=\"-230.8\" font-family=\"Helvetica,sans-Serif\" font-size=\"14.00\">class = hardship</text>\n</g>\n<!-- 27&#45;&gt;30 -->\n<g id=\"edge22\" class=\"edge\">\n<title>27&#45;&gt;30</title>\n<path fill=\"none\" stroke=\"black\" d=\"M953.81,-341.91C957.23,-333.38 960.89,-324.28 964.43,-315.46\"/>\n<polygon fill=\"black\" stroke=\"black\" points=\"967.74,-316.6 968.22,-306.02 961.25,-314 967.74,-316.6\"/>\n</g>\n<!-- 37 -->\n<g id=\"node17\" class=\"node\">\n<title>37</title>\n<path fill=\"#fdfeff\" stroke=\"black\" d=\"M486.5,-187C486.5,-187 342.5,-187 342.5,-187 336.5,-187 330.5,-181 330.5,-175 330.5,-175 330.5,-116 330.5,-116 330.5,-110 336.5,-104 342.5,-104 342.5,-104 486.5,-104 486.5,-104 492.5,-104 498.5,-110 498.5,-116 498.5,-116 498.5,-175 498.5,-175 498.5,-181 492.5,-187 486.5,-187\"/>\n<text text-anchor=\"start\" x=\"338.5\" y=\"-171.8\" font-family=\"Helvetica,sans-Serif\" font-size=\"14.00\">annual_inc ≤ 116999.887</text>\n<text text-anchor=\"start\" x=\"374.5\" y=\"-156.8\" font-family=\"Helvetica,sans-Serif\" font-size=\"14.00\">entropy = 1.0</text>\n<text text-anchor=\"start\" x=\"366\" y=\"-141.8\" font-family=\"Helvetica,sans-Serif\" font-size=\"14.00\">samples = 5965</text>\n<text text-anchor=\"start\" x=\"352.5\" y=\"-126.8\" font-family=\"Helvetica,sans-Serif\" font-size=\"14.00\">value = [2968, 2997]</text>\n<text text-anchor=\"start\" x=\"351.5\" y=\"-111.8\" font-family=\"Helvetica,sans-Serif\" font-size=\"14.00\">class = non&#45;hardship</text>\n</g>\n<!-- 29&#45;&gt;37 -->\n<g id=\"edge16\" class=\"edge\">\n<title>29&#45;&gt;37</title>\n<path fill=\"none\" stroke=\"black\" d=\"M691.27,-226.99C687.99,-225.59 684.72,-224.26 681.5,-223 625.36,-201.14 560.41,-182.39 508.64,-168.93\"/>\n<polygon fill=\"black\" stroke=\"black\" points=\"509.35,-165.5 498.79,-166.39 507.6,-172.28 509.35,-165.5\"/>\n</g>\n<!-- 38 -->\n<g id=\"node20\" class=\"node\">\n<title>38</title>\n<path fill=\"#ebf5fc\" stroke=\"black\" d=\"M803,-187C803,-187 666,-187 666,-187 660,-187 654,-181 654,-175 654,-175 654,-116 654,-116 654,-110 660,-104 666,-104 666,-104 803,-104 803,-104 809,-104 815,-110 815,-116 815,-116 815,-175 815,-175 815,-181 809,-187 803,-187\"/>\n<text text-anchor=\"start\" x=\"662\" y=\"-171.8\" font-family=\"Helvetica,sans-Serif\" font-size=\"14.00\">annual_inc ≤ 78150.801</text>\n<text text-anchor=\"start\" x=\"687\" y=\"-156.8\" font-family=\"Helvetica,sans-Serif\" font-size=\"14.00\">entropy = 0.998</text>\n<text text-anchor=\"start\" x=\"686\" y=\"-141.8\" font-family=\"Helvetica,sans-Serif\" font-size=\"14.00\">samples = 3629</text>\n<text text-anchor=\"start\" x=\"672.5\" y=\"-126.8\" font-family=\"Helvetica,sans-Serif\" font-size=\"14.00\">value = [1718, 1911]</text>\n<text text-anchor=\"start\" x=\"671.5\" y=\"-111.8\" font-family=\"Helvetica,sans-Serif\" font-size=\"14.00\">class = non&#45;hardship</text>\n</g>\n<!-- 29&#45;&gt;38 -->\n<g id=\"edge19\" class=\"edge\">\n<title>29&#45;&gt;38</title>\n<path fill=\"none\" stroke=\"black\" d=\"M752.79,-222.91C750.79,-214.56 748.66,-205.67 746.59,-197.02\"/>\n<polygon fill=\"black\" stroke=\"black\" points=\"749.93,-195.93 744.2,-187.02 743.12,-197.56 749.93,-195.93\"/>\n</g>\n<!-- 41 -->\n<g id=\"node18\" class=\"node\">\n<title>41</title>\n<path fill=\"#fdfeff\" stroke=\"black\" d=\"M313.5,-68C313.5,-68 195.5,-68 195.5,-68 189.5,-68 183.5,-62 183.5,-56 183.5,-56 183.5,-12 183.5,-12 183.5,-6 189.5,0 195.5,0 195.5,0 313.5,0 313.5,0 319.5,0 325.5,-6 325.5,-12 325.5,-12 325.5,-56 325.5,-56 325.5,-62 319.5,-68 313.5,-68\"/>\n<text text-anchor=\"start\" x=\"214.5\" y=\"-52.8\" font-family=\"Helvetica,sans-Serif\" font-size=\"14.00\">entropy = 1.0</text>\n<text text-anchor=\"start\" x=\"206\" y=\"-37.8\" font-family=\"Helvetica,sans-Serif\" font-size=\"14.00\">samples = 5957</text>\n<text text-anchor=\"start\" x=\"192.5\" y=\"-22.8\" font-family=\"Helvetica,sans-Serif\" font-size=\"14.00\">value = [2967, 2990]</text>\n<text text-anchor=\"start\" x=\"191.5\" y=\"-7.8\" font-family=\"Helvetica,sans-Serif\" font-size=\"14.00\">class = non&#45;hardship</text>\n</g>\n<!-- 37&#45;&gt;41 -->\n<g id=\"edge17\" class=\"edge\">\n<title>37&#45;&gt;41</title>\n<path fill=\"none\" stroke=\"black\" d=\"M354.92,-103.73C340.72,-94.01 325.6,-83.66 311.52,-74.02\"/>\n<polygon fill=\"black\" stroke=\"black\" points=\"313.13,-70.88 302.9,-68.13 309.18,-76.66 313.13,-70.88\"/>\n</g>\n<!-- 42 -->\n<g id=\"node19\" class=\"node\">\n<title>42</title>\n<path fill=\"#55abe9\" stroke=\"black\" d=\"M473.5,-68C473.5,-68 355.5,-68 355.5,-68 349.5,-68 343.5,-62 343.5,-56 343.5,-56 343.5,-12 343.5,-12 343.5,-6 349.5,0 355.5,0 355.5,0 473.5,0 473.5,0 479.5,0 485.5,-6 485.5,-12 485.5,-12 485.5,-56 485.5,-56 485.5,-62 479.5,-68 473.5,-68\"/>\n<text text-anchor=\"start\" x=\"367\" y=\"-52.8\" font-family=\"Helvetica,sans-Serif\" font-size=\"14.00\">entropy = 0.544</text>\n<text text-anchor=\"start\" x=\"377\" y=\"-37.8\" font-family=\"Helvetica,sans-Serif\" font-size=\"14.00\">samples = 8</text>\n<text text-anchor=\"start\" x=\"375\" y=\"-22.8\" font-family=\"Helvetica,sans-Serif\" font-size=\"14.00\">value = [1, 7]</text>\n<text text-anchor=\"start\" x=\"351.5\" y=\"-7.8\" font-family=\"Helvetica,sans-Serif\" font-size=\"14.00\">class = non&#45;hardship</text>\n</g>\n<!-- 37&#45;&gt;42 -->\n<g id=\"edge18\" class=\"edge\">\n<title>37&#45;&gt;42</title>\n<path fill=\"none\" stroke=\"black\" d=\"M414.5,-103.73C414.5,-95.52 414.5,-86.86 414.5,-78.56\"/>\n<polygon fill=\"black\" stroke=\"black\" points=\"418,-78.3 414.5,-68.3 411,-78.3 418,-78.3\"/>\n</g>\n<!-- 39 -->\n<g id=\"node21\" class=\"node\">\n<title>39</title>\n<path fill=\"#f5fafe\" stroke=\"black\" d=\"M633.5,-68C633.5,-68 515.5,-68 515.5,-68 509.5,-68 503.5,-62 503.5,-56 503.5,-56 503.5,-12 503.5,-12 503.5,-6 509.5,0 515.5,0 515.5,0 633.5,0 633.5,0 639.5,0 645.5,-6 645.5,-12 645.5,-12 645.5,-56 645.5,-56 645.5,-62 639.5,-68 633.5,-68\"/>\n<text text-anchor=\"start\" x=\"534.5\" y=\"-52.8\" font-family=\"Helvetica,sans-Serif\" font-size=\"14.00\">entropy = 1.0</text>\n<text text-anchor=\"start\" x=\"526\" y=\"-37.8\" font-family=\"Helvetica,sans-Serif\" font-size=\"14.00\">samples = 2402</text>\n<text text-anchor=\"start\" x=\"512.5\" y=\"-22.8\" font-family=\"Helvetica,sans-Serif\" font-size=\"14.00\">value = [1170, 1232]</text>\n<text text-anchor=\"start\" x=\"511.5\" y=\"-7.8\" font-family=\"Helvetica,sans-Serif\" font-size=\"14.00\">class = non&#45;hardship</text>\n</g>\n<!-- 38&#45;&gt;39 -->\n<g id=\"edge20\" class=\"edge\">\n<title>38&#45;&gt;39</title>\n<path fill=\"none\" stroke=\"black\" d=\"M674.92,-103.73C660.72,-94.01 645.6,-83.66 631.52,-74.02\"/>\n<polygon fill=\"black\" stroke=\"black\" points=\"633.13,-70.88 622.9,-68.13 629.18,-76.66 633.13,-70.88\"/>\n</g>\n<!-- 40 -->\n<g id=\"node22\" class=\"node\">\n<title>40</title>\n<path fill=\"#d9ecfa\" stroke=\"black\" d=\"M793.5,-68C793.5,-68 675.5,-68 675.5,-68 669.5,-68 663.5,-62 663.5,-56 663.5,-56 663.5,-12 663.5,-12 663.5,-6 669.5,0 675.5,0 675.5,0 793.5,0 793.5,0 799.5,0 805.5,-6 805.5,-12 805.5,-12 805.5,-56 805.5,-56 805.5,-62 799.5,-68 793.5,-68\"/>\n<text text-anchor=\"start\" x=\"687\" y=\"-52.8\" font-family=\"Helvetica,sans-Serif\" font-size=\"14.00\">entropy = 0.992</text>\n<text text-anchor=\"start\" x=\"686\" y=\"-37.8\" font-family=\"Helvetica,sans-Serif\" font-size=\"14.00\">samples = 1227</text>\n<text text-anchor=\"start\" x=\"680\" y=\"-22.8\" font-family=\"Helvetica,sans-Serif\" font-size=\"14.00\">value = [548, 679]</text>\n<text text-anchor=\"start\" x=\"671.5\" y=\"-7.8\" font-family=\"Helvetica,sans-Serif\" font-size=\"14.00\">class = non&#45;hardship</text>\n</g>\n<!-- 38&#45;&gt;40 -->\n<g id=\"edge21\" class=\"edge\">\n<title>38&#45;&gt;40</title>\n<path fill=\"none\" stroke=\"black\" d=\"M734.5,-103.73C734.5,-95.52 734.5,-86.86 734.5,-78.56\"/>\n<polygon fill=\"black\" stroke=\"black\" points=\"738,-78.3 734.5,-68.3 731,-78.3 738,-78.3\"/>\n</g>\n<!-- 31 -->\n<g id=\"node24\" class=\"node\">\n<title>31</title>\n<path fill=\"#fae8db\" stroke=\"black\" d=\"M1035,-187C1035,-187 934,-187 934,-187 928,-187 922,-181 922,-175 922,-175 922,-116 922,-116 922,-110 928,-104 934,-104 934,-104 1035,-104 1035,-104 1041,-104 1047,-110 1047,-116 1047,-116 1047,-175 1047,-175 1047,-181 1041,-187 1035,-187\"/>\n<text text-anchor=\"start\" x=\"934.5\" y=\"-171.8\" font-family=\"Helvetica,sans-Serif\" font-size=\"14.00\">open_acc ≤ 12.5</text>\n<text text-anchor=\"start\" x=\"937\" y=\"-156.8\" font-family=\"Helvetica,sans-Serif\" font-size=\"14.00\">entropy = 0.993</text>\n<text text-anchor=\"start\" x=\"939.5\" y=\"-141.8\" font-family=\"Helvetica,sans-Serif\" font-size=\"14.00\">samples = 849</text>\n<text text-anchor=\"start\" x=\"930\" y=\"-126.8\" font-family=\"Helvetica,sans-Serif\" font-size=\"14.00\">value = [467, 382]</text>\n<text text-anchor=\"start\" x=\"935\" y=\"-111.8\" font-family=\"Helvetica,sans-Serif\" font-size=\"14.00\">class = hardship</text>\n</g>\n<!-- 30&#45;&gt;31 -->\n<g id=\"edge23\" class=\"edge\">\n<title>30&#45;&gt;31</title>\n<path fill=\"none\" stroke=\"black\" d=\"M984.5,-222.91C984.5,-214.65 984.5,-205.86 984.5,-197.3\"/>\n<polygon fill=\"black\" stroke=\"black\" points=\"988,-197.02 984.5,-187.02 981,-197.02 988,-197.02\"/>\n</g>\n<!-- 32 -->\n<g id=\"node27\" class=\"node\">\n<title>32</title>\n<path fill=\"#f0f8fd\" stroke=\"black\" d=\"M1263,-187C1263,-187 1134,-187 1134,-187 1128,-187 1122,-181 1122,-175 1122,-175 1122,-116 1122,-116 1122,-110 1128,-104 1134,-104 1134,-104 1263,-104 1263,-104 1269,-104 1275,-110 1275,-116 1275,-116 1275,-175 1275,-175 1275,-181 1269,-187 1263,-187\"/>\n<text text-anchor=\"start\" x=\"1130\" y=\"-171.8\" font-family=\"Helvetica,sans-Serif\" font-size=\"14.00\">annual_inc ≤ 143500.0</text>\n<text text-anchor=\"start\" x=\"1151\" y=\"-156.8\" font-family=\"Helvetica,sans-Serif\" font-size=\"14.00\">entropy = 0.999</text>\n<text text-anchor=\"start\" x=\"1153.5\" y=\"-141.8\" font-family=\"Helvetica,sans-Serif\" font-size=\"14.00\">samples = 967</text>\n<text text-anchor=\"start\" x=\"1144\" y=\"-126.8\" font-family=\"Helvetica,sans-Serif\" font-size=\"14.00\">value = [465, 502]</text>\n<text text-anchor=\"start\" x=\"1135.5\" y=\"-111.8\" font-family=\"Helvetica,sans-Serif\" font-size=\"14.00\">class = non&#45;hardship</text>\n</g>\n<!-- 30&#45;&gt;32 -->\n<g id=\"edge26\" class=\"edge\">\n<title>30&#45;&gt;32</title>\n<path fill=\"none\" stroke=\"black\" d=\"M1058.75,-222.91C1077.09,-212.88 1096.85,-202.07 1115.58,-191.84\"/>\n<polygon fill=\"black\" stroke=\"black\" points=\"1117.29,-194.89 1124.39,-187.02 1113.93,-188.75 1117.29,-194.89\"/>\n</g>\n<!-- 33 -->\n<g id=\"node25\" class=\"node\">\n<title>33</title>\n<path fill=\"#fdfeff\" stroke=\"black\" d=\"M953.5,-68C953.5,-68 835.5,-68 835.5,-68 829.5,-68 823.5,-62 823.5,-56 823.5,-56 823.5,-12 823.5,-12 823.5,-6 829.5,0 835.5,0 835.5,0 953.5,0 953.5,0 959.5,0 965.5,-6 965.5,-12 965.5,-12 965.5,-56 965.5,-56 965.5,-62 959.5,-68 953.5,-68\"/>\n<text text-anchor=\"start\" x=\"854.5\" y=\"-52.8\" font-family=\"Helvetica,sans-Serif\" font-size=\"14.00\">entropy = 1.0</text>\n<text text-anchor=\"start\" x=\"849.5\" y=\"-37.8\" font-family=\"Helvetica,sans-Serif\" font-size=\"14.00\">samples = 366</text>\n<text text-anchor=\"start\" x=\"840\" y=\"-22.8\" font-family=\"Helvetica,sans-Serif\" font-size=\"14.00\">value = [182, 184]</text>\n<text text-anchor=\"start\" x=\"831.5\" y=\"-7.8\" font-family=\"Helvetica,sans-Serif\" font-size=\"14.00\">class = non&#45;hardship</text>\n</g>\n<!-- 31&#45;&gt;33 -->\n<g id=\"edge24\" class=\"edge\">\n<title>31&#45;&gt;33</title>\n<path fill=\"none\" stroke=\"black\" d=\"M950.99,-103.73C943.57,-94.7 935.7,-85.12 928.27,-76.08\"/>\n<polygon fill=\"black\" stroke=\"black\" points=\"930.92,-73.8 921.87,-68.3 925.52,-78.25 930.92,-73.8\"/>\n</g>\n<!-- 34 -->\n<g id=\"node26\" class=\"node\">\n<title>34</title>\n<path fill=\"#f7d9c3\" stroke=\"black\" d=\"M1097,-68C1097,-68 996,-68 996,-68 990,-68 984,-62 984,-56 984,-56 984,-12 984,-12 984,-6 990,0 996,0 996,0 1097,0 1097,0 1103,0 1109,-6 1109,-12 1109,-12 1109,-56 1109,-56 1109,-62 1103,-68 1097,-68\"/>\n<text text-anchor=\"start\" x=\"999\" y=\"-52.8\" font-family=\"Helvetica,sans-Serif\" font-size=\"14.00\">entropy = 0.976</text>\n<text text-anchor=\"start\" x=\"1001.5\" y=\"-37.8\" font-family=\"Helvetica,sans-Serif\" font-size=\"14.00\">samples = 483</text>\n<text text-anchor=\"start\" x=\"992\" y=\"-22.8\" font-family=\"Helvetica,sans-Serif\" font-size=\"14.00\">value = [285, 198]</text>\n<text text-anchor=\"start\" x=\"997\" y=\"-7.8\" font-family=\"Helvetica,sans-Serif\" font-size=\"14.00\">class = hardship</text>\n</g>\n<!-- 31&#45;&gt;34 -->\n<g id=\"edge25\" class=\"edge\">\n<title>31&#45;&gt;34</title>\n<path fill=\"none\" stroke=\"black\" d=\"M1007.59,-103.73C1012.49,-95.06 1017.68,-85.9 1022.62,-77.18\"/>\n<polygon fill=\"black\" stroke=\"black\" points=\"1025.76,-78.73 1027.65,-68.3 1019.67,-75.28 1025.76,-78.73\"/>\n</g>\n<!-- 35 -->\n<g id=\"node28\" class=\"node\">\n<title>35</title>\n<path fill=\"#63b2eb\" stroke=\"black\" d=\"M1257.5,-68C1257.5,-68 1139.5,-68 1139.5,-68 1133.5,-68 1127.5,-62 1127.5,-56 1127.5,-56 1127.5,-12 1127.5,-12 1127.5,-6 1133.5,0 1139.5,0 1139.5,0 1257.5,0 1257.5,0 1263.5,0 1269.5,-6 1269.5,-12 1269.5,-12 1269.5,-56 1269.5,-56 1269.5,-62 1263.5,-68 1257.5,-68\"/>\n<text text-anchor=\"start\" x=\"1151\" y=\"-52.8\" font-family=\"Helvetica,sans-Serif\" font-size=\"14.00\">entropy = 0.672</text>\n<text text-anchor=\"start\" x=\"1157.5\" y=\"-37.8\" font-family=\"Helvetica,sans-Serif\" font-size=\"14.00\">samples = 17</text>\n<text text-anchor=\"start\" x=\"1155.5\" y=\"-22.8\" font-family=\"Helvetica,sans-Serif\" font-size=\"14.00\">value = [3, 14]</text>\n<text text-anchor=\"start\" x=\"1135.5\" y=\"-7.8\" font-family=\"Helvetica,sans-Serif\" font-size=\"14.00\">class = non&#45;hardship</text>\n</g>\n<!-- 32&#45;&gt;35 -->\n<g id=\"edge27\" class=\"edge\">\n<title>32&#45;&gt;35</title>\n<path fill=\"none\" stroke=\"black\" d=\"M1198.5,-103.73C1198.5,-95.52 1198.5,-86.86 1198.5,-78.56\"/>\n<polygon fill=\"black\" stroke=\"black\" points=\"1202,-78.3 1198.5,-68.3 1195,-78.3 1202,-78.3\"/>\n</g>\n<!-- 36 -->\n<g id=\"node29\" class=\"node\">\n<title>36</title>\n<path fill=\"#f4fafe\" stroke=\"black\" d=\"M1417.5,-68C1417.5,-68 1299.5,-68 1299.5,-68 1293.5,-68 1287.5,-62 1287.5,-56 1287.5,-56 1287.5,-12 1287.5,-12 1287.5,-6 1293.5,0 1299.5,0 1299.5,0 1417.5,0 1417.5,0 1423.5,0 1429.5,-6 1429.5,-12 1429.5,-12 1429.5,-56 1429.5,-56 1429.5,-62 1423.5,-68 1417.5,-68\"/>\n<text text-anchor=\"start\" x=\"1311\" y=\"-52.8\" font-family=\"Helvetica,sans-Serif\" font-size=\"14.00\">entropy = 0.999</text>\n<text text-anchor=\"start\" x=\"1313.5\" y=\"-37.8\" font-family=\"Helvetica,sans-Serif\" font-size=\"14.00\">samples = 950</text>\n<text text-anchor=\"start\" x=\"1304\" y=\"-22.8\" font-family=\"Helvetica,sans-Serif\" font-size=\"14.00\">value = [462, 488]</text>\n<text text-anchor=\"start\" x=\"1295.5\" y=\"-7.8\" font-family=\"Helvetica,sans-Serif\" font-size=\"14.00\">class = non&#45;hardship</text>\n</g>\n<!-- 32&#45;&gt;36 -->\n<g id=\"edge28\" class=\"edge\">\n<title>32&#45;&gt;36</title>\n<path fill=\"none\" stroke=\"black\" d=\"M1258.08,-103.73C1272.28,-94.01 1287.4,-83.66 1301.48,-74.02\"/>\n<polygon fill=\"black\" stroke=\"black\" points=\"1303.82,-76.66 1310.1,-68.13 1299.87,-70.88 1303.82,-76.66\"/>\n</g>\n<!-- 5 -->\n<g id=\"node32\" class=\"node\">\n<title>5</title>\n<path fill=\"#82c1ef\" stroke=\"black\" d=\"M1745.5,-425C1745.5,-425 1623.5,-425 1623.5,-425 1617.5,-425 1611.5,-419 1611.5,-413 1611.5,-413 1611.5,-354 1611.5,-354 1611.5,-348 1617.5,-342 1623.5,-342 1623.5,-342 1745.5,-342 1745.5,-342 1751.5,-342 1757.5,-348 1757.5,-354 1757.5,-354 1757.5,-413 1757.5,-413 1757.5,-419 1751.5,-425 1745.5,-425\"/>\n<text text-anchor=\"start\" x=\"1619.5\" y=\"-409.8\" font-family=\"Helvetica,sans-Serif\" font-size=\"14.00\">annual_inc ≤ 13250.0</text>\n<text text-anchor=\"start\" x=\"1640.5\" y=\"-394.8\" font-family=\"Helvetica,sans-Serif\" font-size=\"14.00\">entropy = 0.84</text>\n<text text-anchor=\"start\" x=\"1639.5\" y=\"-379.8\" font-family=\"Helvetica,sans-Serif\" font-size=\"14.00\">samples = 160</text>\n<text text-anchor=\"start\" x=\"1634\" y=\"-364.8\" font-family=\"Helvetica,sans-Serif\" font-size=\"14.00\">value = [43, 117]</text>\n<text text-anchor=\"start\" x=\"1621.5\" y=\"-349.8\" font-family=\"Helvetica,sans-Serif\" font-size=\"14.00\">class = non&#45;hardship</text>\n</g>\n<!-- 4&#45;&gt;5 -->\n<g id=\"edge31\" class=\"edge\">\n<title>4&#45;&gt;5</title>\n<path fill=\"none\" stroke=\"black\" d=\"M1684.5,-460.91C1684.5,-452.65 1684.5,-443.86 1684.5,-435.3\"/>\n<polygon fill=\"black\" stroke=\"black\" points=\"1688,-435.02 1684.5,-425.02 1681,-435.02 1688,-435.02\"/>\n</g>\n<!-- 6 -->\n<g id=\"node41\" class=\"node\">\n<title>6</title>\n<path fill=\"#eff7fd\" stroke=\"black\" d=\"M2303,-425C2303,-425 2174,-425 2174,-425 2168,-425 2162,-419 2162,-413 2162,-413 2162,-354 2162,-354 2162,-348 2168,-342 2174,-342 2174,-342 2303,-342 2303,-342 2309,-342 2315,-348 2315,-354 2315,-354 2315,-413 2315,-413 2315,-419 2309,-425 2303,-425\"/>\n<text text-anchor=\"start\" x=\"2170\" y=\"-409.8\" font-family=\"Helvetica,sans-Serif\" font-size=\"14.00\">annual_inc ≤ 337500.0</text>\n<text text-anchor=\"start\" x=\"2191\" y=\"-394.8\" font-family=\"Helvetica,sans-Serif\" font-size=\"14.00\">entropy = 0.999</text>\n<text text-anchor=\"start\" x=\"2193.5\" y=\"-379.8\" font-family=\"Helvetica,sans-Serif\" font-size=\"14.00\">samples = 384</text>\n<text text-anchor=\"start\" x=\"2184\" y=\"-364.8\" font-family=\"Helvetica,sans-Serif\" font-size=\"14.00\">value = [184, 200]</text>\n<text text-anchor=\"start\" x=\"2175.5\" y=\"-349.8\" font-family=\"Helvetica,sans-Serif\" font-size=\"14.00\">class = non&#45;hardship</text>\n</g>\n<!-- 4&#45;&gt;6 -->\n<g id=\"edge40\" class=\"edge\">\n<title>4&#45;&gt;6</title>\n<path fill=\"none\" stroke=\"black\" d=\"M1757.78,-486.02C1859.59,-464.52 2043.5,-425.68 2151.94,-402.78\"/>\n<polygon fill=\"black\" stroke=\"black\" points=\"2152.81,-406.17 2161.87,-400.68 2151.36,-399.33 2152.81,-406.17\"/>\n</g>\n<!-- 13 -->\n<g id=\"node33\" class=\"node\">\n<title>13</title>\n<path fill=\"#e58139\" stroke=\"black\" d=\"M1657,-298.5C1657,-298.5 1566,-298.5 1566,-298.5 1560,-298.5 1554,-292.5 1554,-286.5 1554,-286.5 1554,-242.5 1554,-242.5 1554,-236.5 1560,-230.5 1566,-230.5 1566,-230.5 1657,-230.5 1657,-230.5 1663,-230.5 1669,-236.5 1669,-242.5 1669,-242.5 1669,-286.5 1669,-286.5 1669,-292.5 1663,-298.5 1657,-298.5\"/>\n<text text-anchor=\"start\" x=\"1571.5\" y=\"-283.3\" font-family=\"Helvetica,sans-Serif\" font-size=\"14.00\">entropy = 0.0</text>\n<text text-anchor=\"start\" x=\"1574\" y=\"-268.3\" font-family=\"Helvetica,sans-Serif\" font-size=\"14.00\">samples = 2</text>\n<text text-anchor=\"start\" x=\"1572\" y=\"-253.3\" font-family=\"Helvetica,sans-Serif\" font-size=\"14.00\">value = [2, 0]</text>\n<text text-anchor=\"start\" x=\"1562\" y=\"-238.3\" font-family=\"Helvetica,sans-Serif\" font-size=\"14.00\">class = hardship</text>\n</g>\n<!-- 5&#45;&gt;13 -->\n<g id=\"edge32\" class=\"edge\">\n<title>5&#45;&gt;13</title>\n<path fill=\"none\" stroke=\"black\" d=\"M1659.17,-341.91C1652.22,-330.76 1644.67,-318.66 1637.67,-307.44\"/>\n<polygon fill=\"black\" stroke=\"black\" points=\"1640.46,-305.3 1632.19,-298.67 1634.52,-309 1640.46,-305.3\"/>\n</g>\n<!-- 14 -->\n<g id=\"node34\" class=\"node\">\n<title>14</title>\n<path fill=\"#7ebfee\" stroke=\"black\" d=\"M1817.5,-306C1817.5,-306 1699.5,-306 1699.5,-306 1693.5,-306 1687.5,-300 1687.5,-294 1687.5,-294 1687.5,-235 1687.5,-235 1687.5,-229 1693.5,-223 1699.5,-223 1699.5,-223 1817.5,-223 1817.5,-223 1823.5,-223 1829.5,-229 1829.5,-235 1829.5,-235 1829.5,-294 1829.5,-294 1829.5,-300 1823.5,-306 1817.5,-306\"/>\n<text text-anchor=\"start\" x=\"1708.5\" y=\"-290.8\" font-family=\"Helvetica,sans-Serif\" font-size=\"14.00\">open_acc ≤ 27.5</text>\n<text text-anchor=\"start\" x=\"1711\" y=\"-275.8\" font-family=\"Helvetica,sans-Serif\" font-size=\"14.00\">entropy = 0.826</text>\n<text text-anchor=\"start\" x=\"1713.5\" y=\"-260.8\" font-family=\"Helvetica,sans-Serif\" font-size=\"14.00\">samples = 158</text>\n<text text-anchor=\"start\" x=\"1708\" y=\"-245.8\" font-family=\"Helvetica,sans-Serif\" font-size=\"14.00\">value = [41, 117]</text>\n<text text-anchor=\"start\" x=\"1695.5\" y=\"-230.8\" font-family=\"Helvetica,sans-Serif\" font-size=\"14.00\">class = non&#45;hardship</text>\n</g>\n<!-- 5&#45;&gt;14 -->\n<g id=\"edge33\" class=\"edge\">\n<title>5&#45;&gt;14</title>\n<path fill=\"none\" stroke=\"black\" d=\"M1710.17,-341.91C1715.74,-333.1 1721.69,-323.7 1727.44,-314.61\"/>\n<polygon fill=\"black\" stroke=\"black\" points=\"1730.48,-316.34 1732.87,-306.02 1724.57,-312.6 1730.48,-316.34\"/>\n</g>\n<!-- 21 -->\n<g id=\"node35\" class=\"node\">\n<title>21</title>\n<path fill=\"#9ecff2\" stroke=\"black\" d=\"M1733.5,-187C1733.5,-187 1611.5,-187 1611.5,-187 1605.5,-187 1599.5,-181 1599.5,-175 1599.5,-175 1599.5,-116 1599.5,-116 1599.5,-110 1605.5,-104 1611.5,-104 1611.5,-104 1733.5,-104 1733.5,-104 1739.5,-104 1745.5,-110 1745.5,-116 1745.5,-116 1745.5,-175 1745.5,-175 1745.5,-181 1739.5,-187 1733.5,-187\"/>\n<text text-anchor=\"start\" x=\"1607.5\" y=\"-171.8\" font-family=\"Helvetica,sans-Serif\" font-size=\"14.00\">annual_inc ≤ 33500.0</text>\n<text text-anchor=\"start\" x=\"1625\" y=\"-156.8\" font-family=\"Helvetica,sans-Serif\" font-size=\"14.00\">entropy = 0.923</text>\n<text text-anchor=\"start\" x=\"1631.5\" y=\"-141.8\" font-family=\"Helvetica,sans-Serif\" font-size=\"14.00\">samples = 77</text>\n<text text-anchor=\"start\" x=\"1625.5\" y=\"-126.8\" font-family=\"Helvetica,sans-Serif\" font-size=\"14.00\">value = [26, 51]</text>\n<text text-anchor=\"start\" x=\"1609.5\" y=\"-111.8\" font-family=\"Helvetica,sans-Serif\" font-size=\"14.00\">class = non&#45;hardship</text>\n</g>\n<!-- 14&#45;&gt;21 -->\n<g id=\"edge34\" class=\"edge\">\n<title>14&#45;&gt;21</title>\n<path fill=\"none\" stroke=\"black\" d=\"M1728.66,-222.91C1722.13,-214.01 1715.14,-204.51 1708.39,-195.33\"/>\n<polygon fill=\"black\" stroke=\"black\" points=\"1711.03,-193.01 1702.28,-187.02 1705.39,-197.15 1711.03,-193.01\"/>\n</g>\n<!-- 22 -->\n<g id=\"node38\" class=\"node\">\n<title>22</title>\n<path fill=\"#66b3eb\" stroke=\"black\" d=\"M1913,-187C1913,-187 1776,-187 1776,-187 1770,-187 1764,-181 1764,-175 1764,-175 1764,-116 1764,-116 1764,-110 1770,-104 1776,-104 1776,-104 1913,-104 1913,-104 1919,-104 1925,-110 1925,-116 1925,-116 1925,-175 1925,-175 1925,-181 1919,-187 1913,-187\"/>\n<text text-anchor=\"start\" x=\"1772\" y=\"-171.8\" font-family=\"Helvetica,sans-Serif\" font-size=\"14.00\">annual_inc ≤ 45394.779</text>\n<text text-anchor=\"start\" x=\"1797\" y=\"-156.8\" font-family=\"Helvetica,sans-Serif\" font-size=\"14.00\">entropy = 0.691</text>\n<text text-anchor=\"start\" x=\"1803.5\" y=\"-141.8\" font-family=\"Helvetica,sans-Serif\" font-size=\"14.00\">samples = 81</text>\n<text text-anchor=\"start\" x=\"1797.5\" y=\"-126.8\" font-family=\"Helvetica,sans-Serif\" font-size=\"14.00\">value = [15, 66]</text>\n<text text-anchor=\"start\" x=\"1781.5\" y=\"-111.8\" font-family=\"Helvetica,sans-Serif\" font-size=\"14.00\">class = non&#45;hardship</text>\n</g>\n<!-- 14&#45;&gt;22 -->\n<g id=\"edge37\" class=\"edge\">\n<title>14&#45;&gt;22</title>\n<path fill=\"none\" stroke=\"black\" d=\"M1788.34,-222.91C1794.87,-214.01 1801.86,-204.51 1808.61,-195.33\"/>\n<polygon fill=\"black\" stroke=\"black\" points=\"1811.61,-197.15 1814.72,-187.02 1805.97,-193.01 1811.61,-197.15\"/>\n</g>\n<!-- 25 -->\n<g id=\"node36\" class=\"node\">\n<title>25</title>\n<path fill=\"#399de5\" stroke=\"black\" d=\"M1577.5,-68C1577.5,-68 1459.5,-68 1459.5,-68 1453.5,-68 1447.5,-62 1447.5,-56 1447.5,-56 1447.5,-12 1447.5,-12 1447.5,-6 1453.5,0 1459.5,0 1459.5,0 1577.5,0 1577.5,0 1583.5,0 1589.5,-6 1589.5,-12 1589.5,-12 1589.5,-56 1589.5,-56 1589.5,-62 1583.5,-68 1577.5,-68\"/>\n<text text-anchor=\"start\" x=\"1478.5\" y=\"-52.8\" font-family=\"Helvetica,sans-Serif\" font-size=\"14.00\">entropy = 0.0</text>\n<text text-anchor=\"start\" x=\"1481\" y=\"-37.8\" font-family=\"Helvetica,sans-Serif\" font-size=\"14.00\">samples = 5</text>\n<text text-anchor=\"start\" x=\"1479\" y=\"-22.8\" font-family=\"Helvetica,sans-Serif\" font-size=\"14.00\">value = [0, 5]</text>\n<text text-anchor=\"start\" x=\"1455.5\" y=\"-7.8\" font-family=\"Helvetica,sans-Serif\" font-size=\"14.00\">class = non&#45;hardship</text>\n</g>\n<!-- 21&#45;&gt;25 -->\n<g id=\"edge35\" class=\"edge\">\n<title>21&#45;&gt;25</title>\n<path fill=\"none\" stroke=\"black\" d=\"M1615.16,-103.73C1601.56,-94.06 1587.09,-83.77 1573.59,-74.17\"/>\n<polygon fill=\"black\" stroke=\"black\" points=\"1575.51,-71.24 1565.33,-68.3 1571.45,-76.95 1575.51,-71.24\"/>\n</g>\n<!-- 26 -->\n<g id=\"node37\" class=\"node\">\n<title>26</title>\n<path fill=\"#a9d4f4\" stroke=\"black\" d=\"M1737.5,-68C1737.5,-68 1619.5,-68 1619.5,-68 1613.5,-68 1607.5,-62 1607.5,-56 1607.5,-56 1607.5,-12 1607.5,-12 1607.5,-6 1613.5,0 1619.5,0 1619.5,0 1737.5,0 1737.5,0 1743.5,0 1749.5,-6 1749.5,-12 1749.5,-12 1749.5,-56 1749.5,-56 1749.5,-62 1743.5,-68 1737.5,-68\"/>\n<text text-anchor=\"start\" x=\"1631\" y=\"-52.8\" font-family=\"Helvetica,sans-Serif\" font-size=\"14.00\">entropy = 0.944</text>\n<text text-anchor=\"start\" x=\"1637.5\" y=\"-37.8\" font-family=\"Helvetica,sans-Serif\" font-size=\"14.00\">samples = 72</text>\n<text text-anchor=\"start\" x=\"1631.5\" y=\"-22.8\" font-family=\"Helvetica,sans-Serif\" font-size=\"14.00\">value = [26, 46]</text>\n<text text-anchor=\"start\" x=\"1615.5\" y=\"-7.8\" font-family=\"Helvetica,sans-Serif\" font-size=\"14.00\">class = non&#45;hardship</text>\n</g>\n<!-- 21&#45;&gt;26 -->\n<g id=\"edge36\" class=\"edge\">\n<title>21&#45;&gt;26</title>\n<path fill=\"none\" stroke=\"black\" d=\"M1674.73,-103.73C1675.18,-95.52 1675.66,-86.86 1676.11,-78.56\"/>\n<polygon fill=\"black\" stroke=\"black\" points=\"1679.62,-78.48 1676.68,-68.3 1672.63,-78.09 1679.62,-78.48\"/>\n</g>\n<!-- 23 -->\n<g id=\"node39\" class=\"node\">\n<title>23</title>\n<path fill=\"#87c4ef\" stroke=\"black\" d=\"M1897.5,-68C1897.5,-68 1779.5,-68 1779.5,-68 1773.5,-68 1767.5,-62 1767.5,-56 1767.5,-56 1767.5,-12 1767.5,-12 1767.5,-6 1773.5,0 1779.5,0 1779.5,0 1897.5,0 1897.5,0 1903.5,0 1909.5,-6 1909.5,-12 1909.5,-12 1909.5,-56 1909.5,-56 1909.5,-62 1903.5,-68 1897.5,-68\"/>\n<text text-anchor=\"start\" x=\"1791\" y=\"-52.8\" font-family=\"Helvetica,sans-Serif\" font-size=\"14.00\">entropy = 0.858</text>\n<text text-anchor=\"start\" x=\"1797.5\" y=\"-37.8\" font-family=\"Helvetica,sans-Serif\" font-size=\"14.00\">samples = 39</text>\n<text text-anchor=\"start\" x=\"1791.5\" y=\"-22.8\" font-family=\"Helvetica,sans-Serif\" font-size=\"14.00\">value = [11, 28]</text>\n<text text-anchor=\"start\" x=\"1775.5\" y=\"-7.8\" font-family=\"Helvetica,sans-Serif\" font-size=\"14.00\">class = non&#45;hardship</text>\n</g>\n<!-- 22&#45;&gt;23 -->\n<g id=\"edge38\" class=\"edge\">\n<title>22&#45;&gt;23</title>\n<path fill=\"none\" stroke=\"black\" d=\"M1842.27,-103.73C1841.82,-95.52 1841.34,-86.86 1840.89,-78.56\"/>\n<polygon fill=\"black\" stroke=\"black\" points=\"1844.37,-78.09 1840.32,-68.3 1837.38,-78.48 1844.37,-78.09\"/>\n</g>\n<!-- 24 -->\n<g id=\"node40\" class=\"node\">\n<title>24</title>\n<path fill=\"#4ea7e8\" stroke=\"black\" d=\"M2057.5,-68C2057.5,-68 1939.5,-68 1939.5,-68 1933.5,-68 1927.5,-62 1927.5,-56 1927.5,-56 1927.5,-12 1927.5,-12 1927.5,-6 1933.5,0 1939.5,0 1939.5,0 2057.5,0 2057.5,0 2063.5,0 2069.5,-6 2069.5,-12 2069.5,-12 2069.5,-56 2069.5,-56 2069.5,-62 2063.5,-68 2057.5,-68\"/>\n<text text-anchor=\"start\" x=\"1951\" y=\"-52.8\" font-family=\"Helvetica,sans-Serif\" font-size=\"14.00\">entropy = 0.454</text>\n<text text-anchor=\"start\" x=\"1957.5\" y=\"-37.8\" font-family=\"Helvetica,sans-Serif\" font-size=\"14.00\">samples = 42</text>\n<text text-anchor=\"start\" x=\"1955.5\" y=\"-22.8\" font-family=\"Helvetica,sans-Serif\" font-size=\"14.00\">value = [4, 38]</text>\n<text text-anchor=\"start\" x=\"1935.5\" y=\"-7.8\" font-family=\"Helvetica,sans-Serif\" font-size=\"14.00\">class = non&#45;hardship</text>\n</g>\n<!-- 22&#45;&gt;24 -->\n<g id=\"edge39\" class=\"edge\">\n<title>22&#45;&gt;24</title>\n<path fill=\"none\" stroke=\"black\" d=\"M1901.84,-103.73C1915.44,-94.06 1929.91,-83.77 1943.41,-74.17\"/>\n<polygon fill=\"black\" stroke=\"black\" points=\"1945.55,-76.95 1951.67,-68.3 1941.49,-71.24 1945.55,-76.95\"/>\n</g>\n<!-- 7 -->\n<g id=\"node42\" class=\"node\">\n<title>7</title>\n<path fill=\"#e8f4fc\" stroke=\"black\" d=\"M2303,-306C2303,-306 2174,-306 2174,-306 2168,-306 2162,-300 2162,-294 2162,-294 2162,-235 2162,-235 2162,-229 2168,-223 2174,-223 2174,-223 2303,-223 2303,-223 2309,-223 2315,-229 2315,-235 2315,-235 2315,-294 2315,-294 2315,-300 2309,-306 2303,-306\"/>\n<text text-anchor=\"start\" x=\"2170\" y=\"-290.8\" font-family=\"Helvetica,sans-Serif\" font-size=\"14.00\">annual_inc ≤ 179000.0</text>\n<text text-anchor=\"start\" x=\"2191\" y=\"-275.8\" font-family=\"Helvetica,sans-Serif\" font-size=\"14.00\">entropy = 0.997</text>\n<text text-anchor=\"start\" x=\"2193.5\" y=\"-260.8\" font-family=\"Helvetica,sans-Serif\" font-size=\"14.00\">samples = 377</text>\n<text text-anchor=\"start\" x=\"2184\" y=\"-245.8\" font-family=\"Helvetica,sans-Serif\" font-size=\"14.00\">value = [177, 200]</text>\n<text text-anchor=\"start\" x=\"2175.5\" y=\"-230.8\" font-family=\"Helvetica,sans-Serif\" font-size=\"14.00\">class = non&#45;hardship</text>\n</g>\n<!-- 6&#45;&gt;7 -->\n<g id=\"edge41\" class=\"edge\">\n<title>6&#45;&gt;7</title>\n<path fill=\"none\" stroke=\"black\" d=\"M2238.5,-341.91C2238.5,-333.65 2238.5,-324.86 2238.5,-316.3\"/>\n<polygon fill=\"black\" stroke=\"black\" points=\"2242,-316.02 2238.5,-306.02 2235,-316.02 2242,-316.02\"/>\n</g>\n<!-- 8 -->\n<g id=\"node49\" class=\"node\">\n<title>8</title>\n<path fill=\"#e58139\" stroke=\"black\" d=\"M2436,-298.5C2436,-298.5 2345,-298.5 2345,-298.5 2339,-298.5 2333,-292.5 2333,-286.5 2333,-286.5 2333,-242.5 2333,-242.5 2333,-236.5 2339,-230.5 2345,-230.5 2345,-230.5 2436,-230.5 2436,-230.5 2442,-230.5 2448,-236.5 2448,-242.5 2448,-242.5 2448,-286.5 2448,-286.5 2448,-292.5 2442,-298.5 2436,-298.5\"/>\n<text text-anchor=\"start\" x=\"2350.5\" y=\"-283.3\" font-family=\"Helvetica,sans-Serif\" font-size=\"14.00\">entropy = 0.0</text>\n<text text-anchor=\"start\" x=\"2353\" y=\"-268.3\" font-family=\"Helvetica,sans-Serif\" font-size=\"14.00\">samples = 7</text>\n<text text-anchor=\"start\" x=\"2351\" y=\"-253.3\" font-family=\"Helvetica,sans-Serif\" font-size=\"14.00\">value = [7, 0]</text>\n<text text-anchor=\"start\" x=\"2341\" y=\"-238.3\" font-family=\"Helvetica,sans-Serif\" font-size=\"14.00\">class = hardship</text>\n</g>\n<!-- 6&#45;&gt;8 -->\n<g id=\"edge48\" class=\"edge\">\n<title>6&#45;&gt;8</title>\n<path fill=\"none\" stroke=\"black\" d=\"M2291.24,-341.91C2306.86,-329.88 2323.94,-316.73 2339.46,-304.79\"/>\n<polygon fill=\"black\" stroke=\"black\" points=\"2341.62,-307.54 2347.41,-298.67 2337.35,-301.99 2341.62,-307.54\"/>\n</g>\n<!-- 15 -->\n<g id=\"node43\" class=\"node\">\n<title>15</title>\n<path fill=\"#dbedfa\" stroke=\"black\" d=\"M2297.5,-187C2297.5,-187 2179.5,-187 2179.5,-187 2173.5,-187 2167.5,-181 2167.5,-175 2167.5,-175 2167.5,-116 2167.5,-116 2167.5,-110 2173.5,-104 2179.5,-104 2179.5,-104 2297.5,-104 2297.5,-104 2303.5,-104 2309.5,-110 2309.5,-116 2309.5,-116 2309.5,-175 2309.5,-175 2309.5,-181 2303.5,-187 2297.5,-187\"/>\n<text text-anchor=\"start\" x=\"2188.5\" y=\"-171.8\" font-family=\"Helvetica,sans-Serif\" font-size=\"14.00\">open_acc ≤ 45.5</text>\n<text text-anchor=\"start\" x=\"2191\" y=\"-156.8\" font-family=\"Helvetica,sans-Serif\" font-size=\"14.00\">entropy = 0.993</text>\n<text text-anchor=\"start\" x=\"2193.5\" y=\"-141.8\" font-family=\"Helvetica,sans-Serif\" font-size=\"14.00\">samples = 338</text>\n<text text-anchor=\"start\" x=\"2184\" y=\"-126.8\" font-family=\"Helvetica,sans-Serif\" font-size=\"14.00\">value = [152, 186]</text>\n<text text-anchor=\"start\" x=\"2175.5\" y=\"-111.8\" font-family=\"Helvetica,sans-Serif\" font-size=\"14.00\">class = non&#45;hardship</text>\n</g>\n<!-- 7&#45;&gt;15 -->\n<g id=\"edge42\" class=\"edge\">\n<title>7&#45;&gt;15</title>\n<path fill=\"none\" stroke=\"black\" d=\"M2238.5,-222.91C2238.5,-214.65 2238.5,-205.86 2238.5,-197.3\"/>\n<polygon fill=\"black\" stroke=\"black\" points=\"2242,-197.02 2238.5,-187.02 2235,-197.02 2242,-197.02\"/>\n</g>\n<!-- 16 -->\n<g id=\"node46\" class=\"node\">\n<title>16</title>\n<path fill=\"#f4c8a8\" stroke=\"black\" d=\"M2511.5,-187C2511.5,-187 2419.5,-187 2419.5,-187 2413.5,-187 2407.5,-181 2407.5,-175 2407.5,-175 2407.5,-116 2407.5,-116 2407.5,-110 2413.5,-104 2419.5,-104 2419.5,-104 2511.5,-104 2511.5,-104 2517.5,-104 2523.5,-110 2523.5,-116 2523.5,-116 2523.5,-175 2523.5,-175 2523.5,-181 2517.5,-187 2511.5,-187\"/>\n<text text-anchor=\"start\" x=\"2415.5\" y=\"-171.8\" font-family=\"Helvetica,sans-Serif\" font-size=\"14.00\">open_acc ≤ 25.5</text>\n<text text-anchor=\"start\" x=\"2418\" y=\"-156.8\" font-family=\"Helvetica,sans-Serif\" font-size=\"14.00\">entropy = 0.942</text>\n<text text-anchor=\"start\" x=\"2424.5\" y=\"-141.8\" font-family=\"Helvetica,sans-Serif\" font-size=\"14.00\">samples = 39</text>\n<text text-anchor=\"start\" x=\"2418.5\" y=\"-126.8\" font-family=\"Helvetica,sans-Serif\" font-size=\"14.00\">value = [25, 14]</text>\n<text text-anchor=\"start\" x=\"2416\" y=\"-111.8\" font-family=\"Helvetica,sans-Serif\" font-size=\"14.00\">class = hardship</text>\n</g>\n<!-- 7&#45;&gt;16 -->\n<g id=\"edge45\" class=\"edge\">\n<title>7&#45;&gt;16</title>\n<path fill=\"none\" stroke=\"black\" d=\"M2315.04,-224.05C2341.98,-210.17 2372.04,-194.67 2398.17,-181.21\"/>\n<polygon fill=\"black\" stroke=\"black\" points=\"2399.95,-184.23 2407.23,-176.53 2396.74,-178 2399.95,-184.23\"/>\n</g>\n<!-- 17 -->\n<g id=\"node44\" class=\"node\">\n<title>17</title>\n<path fill=\"#e0f0fb\" stroke=\"black\" d=\"M2217.5,-68C2217.5,-68 2099.5,-68 2099.5,-68 2093.5,-68 2087.5,-62 2087.5,-56 2087.5,-56 2087.5,-12 2087.5,-12 2087.5,-6 2093.5,0 2099.5,0 2099.5,0 2217.5,0 2217.5,0 2223.5,0 2229.5,-6 2229.5,-12 2229.5,-12 2229.5,-56 2229.5,-56 2229.5,-62 2223.5,-68 2217.5,-68\"/>\n<text text-anchor=\"start\" x=\"2111\" y=\"-52.8\" font-family=\"Helvetica,sans-Serif\" font-size=\"14.00\">entropy = 0.995</text>\n<text text-anchor=\"start\" x=\"2113.5\" y=\"-37.8\" font-family=\"Helvetica,sans-Serif\" font-size=\"14.00\">samples = 332</text>\n<text text-anchor=\"start\" x=\"2104\" y=\"-22.8\" font-family=\"Helvetica,sans-Serif\" font-size=\"14.00\">value = [152, 180]</text>\n<text text-anchor=\"start\" x=\"2095.5\" y=\"-7.8\" font-family=\"Helvetica,sans-Serif\" font-size=\"14.00\">class = non&#45;hardship</text>\n</g>\n<!-- 15&#45;&gt;17 -->\n<g id=\"edge43\" class=\"edge\">\n<title>15&#45;&gt;17</title>\n<path fill=\"none\" stroke=\"black\" d=\"M2208.71,-103.73C2202.25,-94.88 2195.4,-85.51 2188.91,-76.63\"/>\n<polygon fill=\"black\" stroke=\"black\" points=\"2191.55,-74.31 2182.83,-68.3 2185.9,-78.44 2191.55,-74.31\"/>\n</g>\n<!-- 18 -->\n<g id=\"node45\" class=\"node\">\n<title>18</title>\n<path fill=\"#399de5\" stroke=\"black\" d=\"M2377.5,-68C2377.5,-68 2259.5,-68 2259.5,-68 2253.5,-68 2247.5,-62 2247.5,-56 2247.5,-56 2247.5,-12 2247.5,-12 2247.5,-6 2253.5,0 2259.5,0 2259.5,0 2377.5,0 2377.5,0 2383.5,0 2389.5,-6 2389.5,-12 2389.5,-12 2389.5,-56 2389.5,-56 2389.5,-62 2383.5,-68 2377.5,-68\"/>\n<text text-anchor=\"start\" x=\"2278.5\" y=\"-52.8\" font-family=\"Helvetica,sans-Serif\" font-size=\"14.00\">entropy = 0.0</text>\n<text text-anchor=\"start\" x=\"2281\" y=\"-37.8\" font-family=\"Helvetica,sans-Serif\" font-size=\"14.00\">samples = 6</text>\n<text text-anchor=\"start\" x=\"2279\" y=\"-22.8\" font-family=\"Helvetica,sans-Serif\" font-size=\"14.00\">value = [0, 6]</text>\n<text text-anchor=\"start\" x=\"2255.5\" y=\"-7.8\" font-family=\"Helvetica,sans-Serif\" font-size=\"14.00\">class = non&#45;hardship</text>\n</g>\n<!-- 15&#45;&gt;18 -->\n<g id=\"edge44\" class=\"edge\">\n<title>15&#45;&gt;18</title>\n<path fill=\"none\" stroke=\"black\" d=\"M2268.29,-103.73C2274.75,-94.88 2281.6,-85.51 2288.09,-76.63\"/>\n<polygon fill=\"black\" stroke=\"black\" points=\"2291.1,-78.44 2294.17,-68.3 2285.45,-74.31 2291.1,-78.44\"/>\n</g>\n<!-- 19 -->\n<g id=\"node47\" class=\"node\">\n<title>19</title>\n<path fill=\"#e58139\" stroke=\"black\" d=\"M2511,-68C2511,-68 2420,-68 2420,-68 2414,-68 2408,-62 2408,-56 2408,-56 2408,-12 2408,-12 2408,-6 2414,0 2420,0 2420,0 2511,0 2511,0 2517,0 2523,-6 2523,-12 2523,-12 2523,-56 2523,-56 2523,-62 2517,-68 2511,-68\"/>\n<text text-anchor=\"start\" x=\"2425.5\" y=\"-52.8\" font-family=\"Helvetica,sans-Serif\" font-size=\"14.00\">entropy = 0.0</text>\n<text text-anchor=\"start\" x=\"2428\" y=\"-37.8\" font-family=\"Helvetica,sans-Serif\" font-size=\"14.00\">samples = 6</text>\n<text text-anchor=\"start\" x=\"2426\" y=\"-22.8\" font-family=\"Helvetica,sans-Serif\" font-size=\"14.00\">value = [6, 0]</text>\n<text text-anchor=\"start\" x=\"2416\" y=\"-7.8\" font-family=\"Helvetica,sans-Serif\" font-size=\"14.00\">class = hardship</text>\n</g>\n<!-- 16&#45;&gt;19 -->\n<g id=\"edge46\" class=\"edge\">\n<title>16&#45;&gt;19</title>\n<path fill=\"none\" stroke=\"black\" d=\"M2465.5,-103.73C2465.5,-95.52 2465.5,-86.86 2465.5,-78.56\"/>\n<polygon fill=\"black\" stroke=\"black\" points=\"2469,-78.3 2465.5,-68.3 2462,-78.3 2469,-78.3\"/>\n</g>\n<!-- 20 -->\n<g id=\"node48\" class=\"node\">\n<title>20</title>\n<path fill=\"#f8decb\" stroke=\"black\" d=\"M2644,-68C2644,-68 2553,-68 2553,-68 2547,-68 2541,-62 2541,-56 2541,-56 2541,-12 2541,-12 2541,-6 2547,0 2553,0 2553,0 2644,0 2644,0 2650,0 2656,-6 2656,-12 2656,-12 2656,-56 2656,-56 2656,-62 2650,-68 2644,-68\"/>\n<text text-anchor=\"start\" x=\"2551\" y=\"-52.8\" font-family=\"Helvetica,sans-Serif\" font-size=\"14.00\">entropy = 0.983</text>\n<text text-anchor=\"start\" x=\"2557.5\" y=\"-37.8\" font-family=\"Helvetica,sans-Serif\" font-size=\"14.00\">samples = 33</text>\n<text text-anchor=\"start\" x=\"2551.5\" y=\"-22.8\" font-family=\"Helvetica,sans-Serif\" font-size=\"14.00\">value = [19, 14]</text>\n<text text-anchor=\"start\" x=\"2549\" y=\"-7.8\" font-family=\"Helvetica,sans-Serif\" font-size=\"14.00\">class = hardship</text>\n</g>\n<!-- 16&#45;&gt;20 -->\n<g id=\"edge47\" class=\"edge\">\n<title>16&#45;&gt;20</title>\n<path fill=\"none\" stroke=\"black\" d=\"M2515.02,-103.73C2526.55,-94.24 2538.8,-84.16 2550.26,-74.72\"/>\n<polygon fill=\"black\" stroke=\"black\" points=\"2552.56,-77.36 2558.05,-68.3 2548.11,-71.95 2552.56,-77.36\"/>\n</g>\n</g>\n</svg>\n",
      "text/plain": [
       "<graphviz.sources.Source at 0x124c59250>"
      ]
     },
     "execution_count": 253,
     "metadata": {},
     "output_type": "execute_result"
    }
   ],
   "source": [
    "graph = graphviz.Source(dot_data)\n",
    "\n",
    "# graph.render(\"/Users/mac/Desktop/untitled folder/tree\")  #path to save file"
   ]
  },
  {
   "cell_type": "code",
   "execution_count": null,
   "id": "327fa1d5-ac40-47b4-92c5-8dbb6a4b4507",
   "metadata": {},
   "outputs": [],
   "source": []
  }
 ],
 "metadata": {
  "kernelspec": {
   "display_name": "Python 3 (ipykernel)",
   "language": "python",
   "name": "python3"
  },
  "language_info": {
   "codemirror_mode": {
    "name": "ipython",
    "version": 3
   },
   "file_extension": ".py",
   "mimetype": "text/x-python",
   "name": "python",
   "nbconvert_exporter": "python",
   "pygments_lexer": "ipython3",
   "version": "3.9.6"
  }
 },
 "nbformat": 4,
 "nbformat_minor": 5
}

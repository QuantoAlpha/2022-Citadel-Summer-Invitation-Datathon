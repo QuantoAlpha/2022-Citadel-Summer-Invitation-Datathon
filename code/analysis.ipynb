{
 "cells": [
  {
   "cell_type": "code",
   "execution_count": 106,
   "id": "c918e565-2a26-4f4a-9aa6-3a9d2d69c3a3",
   "metadata": {},
   "outputs": [],
   "source": [
    "import pandas as pd\n",
    "from sklearn.model_selection import train_test_split\n",
    "from statsmodels.stats.weightstats import ztest\n",
    "import statsmodels\n",
    "import scipy"
   ]
  },
  {
   "cell_type": "code",
   "execution_count": 107,
   "id": "44bc0567-8597-4926-9505-e584fcb801dc",
   "metadata": {},
   "outputs": [],
   "source": [
    "#read big df\n",
    "path = '../data/processed_data/df1_one_hot.gz'# path to final file \n",
    "df1 = pd.read_csv(path, compression='gzip', header=0, sep=',', quotechar='\"')"
   ]
  },
  {
   "cell_type": "code",
   "execution_count": 45,
   "id": "7b3b1830-f433-4556-aea2-1e6291aff542",
   "metadata": {},
   "outputs": [],
   "source": [
    "#read downsample df\n",
    "df1_down = '../data/processed_data/accept_downsampled_by_hardship.csv'\n",
    "df1_down = pd.read_csv(df1_down)\n",
    "del df1_down['Unnamed: 0']\n",
    "del df1_down['id']"
   ]
  },
  {
   "cell_type": "code",
   "execution_count": 5,
   "id": "53a17f25-7e0d-48e7-b419-a460f4be58e8",
   "metadata": {},
   "outputs": [],
   "source": [
    "del df1['Unnamed: 0']\n",
    "del df1['id']"
   ]
  },
  {
   "cell_type": "code",
   "execution_count": 82,
   "id": "86d34b71-d18d-4c68-a1fe-4062aa4249c7",
   "metadata": {},
   "outputs": [],
   "source": [
    "#split hardship\n",
    "df1_h = df1.loc[df1['hardship'] == 1]\n",
    "df1_nh = df1.loc[df1['hardship'] == 0]"
   ]
  },
  {
   "cell_type": "code",
   "execution_count": 51,
   "id": "27887a58-7b4e-43a1-99b8-2312fa2302b0",
   "metadata": {},
   "outputs": [],
   "source": [
    "#split hardship\n",
    "df1_down_h = df1_down.loc[df1_down['hardship'] == 1]\n",
    "df1_down_nh = df1_down.loc[df1_down['hardship'] == 0]"
   ]
  },
  {
   "cell_type": "code",
   "execution_count": null,
   "id": "cc7b8d09-e532-4259-aeed-8bbbf9dfbdc8",
   "metadata": {},
   "outputs": [],
   "source": []
  },
  {
   "cell_type": "code",
   "execution_count": 59,
   "id": "79fdbbf6-9e25-4a6d-be73-dfff1ec5ac78",
   "metadata": {},
   "outputs": [],
   "source": []
  },
  {
   "cell_type": "code",
   "execution_count": 7,
   "id": "65673fb9-63e7-498d-900f-af23c18006c9",
   "metadata": {},
   "outputs": [],
   "source": []
  },
  {
   "cell_type": "markdown",
   "id": "c6379320-e3d9-44f3-ad62-1a6d0aa4c1c3",
   "metadata": {},
   "source": [
    "### DTI"
   ]
  },
  {
   "cell_type": "code",
   "execution_count": null,
   "id": "1426d6e8-4ade-4b99-ab05-0baaa4db5313",
   "metadata": {},
   "outputs": [
    {
     "data": {
      "image/png": "[encoded data removed]",
      "text/plain": [
       "<Figure size 432x288 with 1 Axes>"
      ]
     },
     "metadata": {
      "needs_background": "light"
     },
     "output_type": "display_data"
    }
   ],
   "source": [
    "h = df1_h\n",
    "nh = df1_nh\n",
    "\n",
    "h = h['dti']\n",
    "nh = nh['dti']\n",
    "\n",
    "import numpy as np\n",
    "import matplotlib.pyplot as plt\n",
    "val = 0.1 # this is the value where you want the data to appear on the y-axis.\n",
    "plt.plot(h, np.zeros_like(h) + val, 'x', label = 'hardship dti distribution')\n",
    "plt.plot(nh, np.zeros_like(nh) - val, 'x', label = 'non-hardship dti distribution')\n",
    "\n",
    "#add legend\n",
    "plt.legend()\n",
    "\n",
    "#hide y-axis - meaningless\n",
    "ax = plt.gca()\n",
    "ax.get_yaxis().set_visible(False)\n",
    "\n",
    "#draw median\n",
    "x_h = h.median()\n",
    "x_nh = nh.median()\n",
    "\n",
    "plt.plot(x_h, val, marker=\"o\", markersize=10, markeredgecolor=\"red\", markerfacecolor=\"green\")\n",
    "plt.plot(x_nh, -val, marker=\"o\", markersize=10, markeredgecolor=\"red\", markerfacecolor=\"green\")\n",
    "\n",
    "plt.show()\n"
   ]
  }
 ],
 "metadata": {
  "kernelspec": {
   "display_name": "Python 3 (ipykernel)",
   "language": "python",
   "name": "python3"
  },
  "language_info": {
   "codemirror_mode": {
    "name": "ipython",
    "version": 3
   },
   "file_extension": ".py",
   "mimetype": "text/x-python",
   "name": "python",
   "nbconvert_exporter": "python",
   "pygments_lexer": "ipython3",
   "version": "3.9.6"
  }
 },
 "nbformat": 4,
 "nbformat_minor": 5
}
